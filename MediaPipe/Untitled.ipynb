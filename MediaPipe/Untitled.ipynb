{
 "cells": [
  {
   "cell_type": "code",
   "execution_count": 1,
   "id": "35bd4f05",
   "metadata": {},
   "outputs": [],
   "source": [
    "import math\n",
    "import cv2\n",
    "import numpy as np\n",
    "import mediapipe as mp\n",
    "import matplotlib.pyplot as plt\n",
    "import tensorflow as tf"
   ]
  },
  {
   "cell_type": "code",
   "execution_count": 2,
   "id": "5963d2c1",
   "metadata": {},
   "outputs": [],
   "source": [
    "mp_pose = mp.solutions.pose\n",
    "\n",
    "pose = mp_pose.Pose(\n",
    "    static_image_mode=True, \n",
    "    min_detection_confidence=0.3, \n",
    "    model_complexity=2)\n",
    "\n",
    "mp_drawing = mp.solutions.drawing_utils"
   ]
  },
  {
   "cell_type": "code",
   "execution_count": 3,
   "id": "1eaef7dc",
   "metadata": {},
   "outputs": [],
   "source": [
    "def detectPose(image, pose, display=True):\n",
    "    \"\"\"\n",
    "    This function oerfoms pose detection on an image.\n",
    "    Args:\n",
    "        image: The input image with a prominent person whose pose landmarks needs to be detected.\n",
    "        pose: The pose setup function required to perform the pose detection.\n",
    "        display: A boolean value thet is if set to true the function displays the original input\n",
    "                 image, the resultant and the pose landmarks in 30 plot and returns nating.\n",
    "                 \n",
    "    Returns:\n",
    "        output_image: The input image with the detected pose landmakrs drawn.\n",
    "        landmarks: A list of detected landmaks converted into their original scale.\n",
    "    \"\"\"\n",
    "    \n",
    "    output_image = image.copy()\n",
    "    imageRBG = cv2.cvtColor(image, cv2.COLOR_BGR2RGB)\n",
    "    results = pose.process(imageRBG)\n",
    "    height, width, _ = image.shape\n",
    "    \n",
    "    landmarks = []\n",
    "    if results.pose_landmarks:\n",
    "        \n",
    "        mp_drawing.draw_landmarks(image=output_image, \n",
    "                                  landmark_list=results.pose_landmarks, \n",
    "                                  connections=mp_pose.POSE_CONNECTIONS)\n",
    "        \n",
    "        for landmark in results.pose_landmarks.landmark:\n",
    "            landmarks.append((int(landmark.x * width), \n",
    "                              int(landmark.y * height), \n",
    "                              int(landmark.z * width) ))\n",
    "            \n",
    "    if display:\n",
    "        \n",
    "        plt.figure(figsize=[22,22])\n",
    "        plt.subplot(121)\n",
    "        plt.imshow(image[:,:,::-1])\n",
    "        plt.title(\"Original Image\")\n",
    "        plt.axis(\"off\")\n",
    "        plt.subplot(122)\n",
    "        plt.imshow(output_image[:,:,::-1])\n",
    "        plt.title(\"Output Image\")\n",
    "        plt.axis(\"off\")\n",
    "        \n",
    "        mp_drawing.plot_landmarks(results.pose_world_landmarks,\n",
    "                          mp_pose.POSE_CONNECTIONS)\n",
    "    else:\n",
    "        return output_image, landmarks"
   ]
  },
  {
   "cell_type": "code",
   "execution_count": null,
   "id": "36a4d276",
   "metadata": {},
   "outputs": [],
   "source": []
  }
 ],
 "metadata": {
  "kernelspec": {
   "display_name": "Python 3 (ipykernel)",
   "language": "python",
   "name": "python3"
  },
  "language_info": {
   "codemirror_mode": {
    "name": "ipython",
    "version": 3
   },
   "file_extension": ".py",
   "mimetype": "text/x-python",
   "name": "python",
   "nbconvert_exporter": "python",
   "pygments_lexer": "ipython3",
   "version": "3.9.7"
  }
 },
 "nbformat": 4,
 "nbformat_minor": 5
}
