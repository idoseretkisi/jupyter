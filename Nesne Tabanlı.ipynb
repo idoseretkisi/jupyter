{
 "cells": [
  {
   "cell_type": "markdown",
   "id": "475e1516",
   "metadata": {},
   "source": [
    "# Classes"
   ]
  },
  {
   "cell_type": "code",
   "execution_count": 1,
   "id": "be04d8b7",
   "metadata": {},
   "outputs": [],
   "source": [
    "employee1_name = \"messi\"\n",
    "employee1_age = 33\n",
    "employee1_adress = \"dasdasda\""
   ]
  },
  {
   "cell_type": "code",
   "execution_count": 2,
   "id": "60b480ca",
   "metadata": {},
   "outputs": [],
   "source": [
    "class Employee:\n",
    "    pass"
   ]
  },
  {
   "cell_type": "code",
   "execution_count": 3,
   "id": "86a21552",
   "metadata": {},
   "outputs": [],
   "source": [
    "employee1 = Employee()"
   ]
  },
  {
   "cell_type": "code",
   "execution_count": 4,
   "id": "d126e1a8",
   "metadata": {},
   "outputs": [
    {
     "data": {
      "text/plain": [
       "__main__.Employee"
      ]
     },
     "execution_count": 4,
     "metadata": {},
     "output_type": "execute_result"
    }
   ],
   "source": [
    "type(employee1)"
   ]
  },
  {
   "cell_type": "code",
   "execution_count": 5,
   "id": "cfd7b5de",
   "metadata": {},
   "outputs": [
    {
     "name": "stdout",
     "output_type": "stream",
     "text": [
      "<__main__.Footballer object at 0x0000018DB50BD7F0>\n",
      "barcelona\n"
     ]
    }
   ],
   "source": [
    "class Footballer:\n",
    "    football_club = \"barcelona\"\n",
    "    age = 30\n",
    "    \n",
    "f1 = Footballer()\n",
    "print(f1)\n",
    "print(f1.football_club)"
   ]
  },
  {
   "cell_type": "code",
   "execution_count": 8,
   "id": "56c62fbe",
   "metadata": {},
   "outputs": [
    {
     "name": "stdout",
     "output_type": "stream",
     "text": [
      "real madrid\n"
     ]
    }
   ],
   "source": [
    "f1.football_club = \"real madrid\"\n",
    "print(f1.football_club)"
   ]
  },
  {
   "cell_type": "markdown",
   "id": "5bd1e06f",
   "metadata": {},
   "source": [
    "# Methods"
   ]
  },
  {
   "cell_type": "code",
   "execution_count": 20,
   "id": "2291c428",
   "metadata": {},
   "outputs": [
    {
     "name": "stdout",
     "output_type": "stream",
     "text": [
      "<__main__.Square object at 0x0000029659D13FD0>\n",
      "5\n",
      "0\n",
      "25\n"
     ]
    },
    {
     "data": {
      "text/plain": [
       "25"
      ]
     },
     "execution_count": 20,
     "metadata": {},
     "output_type": "execute_result"
    }
   ],
   "source": [
    "class Square(object):\n",
    "    edge = 5 #meter\n",
    "    area = 0\n",
    "    def area1(self):\n",
    "        self.area = self.edge**2\n",
    "        return self.area\n",
    "    \n",
    "s1 = Square()\n",
    "print(s1)\n",
    "print(s1.edge)\n",
    "print(s1.area)\n",
    "print(s1.area1())\n",
    "s1.area\n",
    "s1.area1()"
   ]
  },
  {
   "cell_type": "markdown",
   "id": "a2b0385d",
   "metadata": {},
   "source": [
    "# Methods vs Functions\n",
    "\n"
   ]
  },
  {
   "cell_type": "code",
   "execution_count": 22,
   "id": "abba5202",
   "metadata": {},
   "outputs": [
    {
     "name": "stdout",
     "output_type": "stream",
     "text": [
      "0.025\n",
      "0.025\n"
     ]
    }
   ],
   "source": [
    "class Emp(object):\n",
    "    age = 25\n",
    "    salary = 1000\n",
    "    \n",
    "    def ageSalaryRatio(self): #Method\n",
    "       print(self.age / self.salary)\n",
    "\n",
    "def ageSalaryRatio(age, salary): #Function\n",
    "    print(age/salary)\n",
    "    \n",
    "e1 = Emp()\n",
    "e1.ageSalaryRatio()\n",
    "\n",
    "ageSalaryRatio(e1.age, e1.salary)"
   ]
  },
  {
   "cell_type": "markdown",
   "id": "911b087e",
   "metadata": {},
   "source": [
    "# Yapıcı / Constructor / Initializer"
   ]
  },
  {
   "cell_type": "code",
   "execution_count": 27,
   "id": "084c1bc4",
   "metadata": {},
   "outputs": [
    {
     "name": "stdout",
     "output_type": "stream",
     "text": [
      "2 3 6 dog cat bird\n"
     ]
    }
   ],
   "source": [
    "class Animal(object):\n",
    "    def __init__(self, name, age):\n",
    "        self.name = name\n",
    "        self.age = age\n",
    "    \n",
    "    def getAge(self):\n",
    "        return self.age\n",
    "    def getName(self):\n",
    "        return self.name\n",
    "    \n",
    "a1 = Animal(\"dog\", 2)\n",
    "a2 = Animal(\"cat\", 3)\n",
    "a3 = Animal(\"bird\", 6)\n",
    "print(a1.getAge(),\n",
    "        a2.getAge(),\n",
    "        a3.getAge(),\n",
    "        a1.getName(),\n",
    "        a2.getName(),\n",
    "        a3.getName())"
   ]
  },
  {
   "cell_type": "markdown",
   "id": "2832fb8f",
   "metadata": {},
   "source": [
    "# Hesapmakinesi Projesi"
   ]
  },
  {
   "cell_type": "code",
   "execution_count": 40,
   "id": "d611172d",
   "metadata": {},
   "outputs": [
    {
     "name": "stdout",
     "output_type": "stream",
     "text": [
      "Add 8, Multipy: 15\n"
     ]
    }
   ],
   "source": [
    "class Calc(object):\n",
    "    \"calculator\"\n",
    "    def __init__(self, a, b):\n",
    "        \"initialize values\"\n",
    "        self.value1 = a\n",
    "        self.value2 = b\n",
    "    def add(self):\n",
    "        \"addition a+b = result -> return result\"\n",
    "        return self.value1 + self.value2\n",
    "    def multiply(self):\n",
    "        \"multiplication a+b = result -> return result\"\n",
    "        return self.value1 * self.value2\n",
    "    def divition(self):\n",
    "        if self.value2 == 0:\n",
    "            print(\"ERR\")\n",
    "            return \"err\"\n",
    "        return self.value1 / self.value2\n",
    "\n",
    "v1 = 5\n",
    "v2 = 3\n",
    "c1 = Calc(v1, v2)\n",
    "\n",
    "add_result = c1.add()\n",
    "multiply_result = c1.multiply()\n",
    "\n",
    "print(\"Add {}, Multipy: {}\".format(add_result, multiply_result))"
   ]
  },
  {
   "cell_type": "code",
   "execution_count": 41,
   "id": "74f3eabc",
   "metadata": {},
   "outputs": [
    {
     "name": "stdout",
     "output_type": "stream",
     "text": [
      "Choose add(1), multoly(2)\n",
      "select 1 or 2 or 33\n",
      "first value5\n",
      "secon value0\n",
      "ERR\n",
      "Result:  err\n"
     ]
    }
   ],
   "source": [
    "print(\"Choose add(1), multoly(2)\")\n",
    "selection = input(\"select 1 or 2 or 3\")\n",
    "v1 = int(input(\"first value\"))\n",
    "v2 = int(input(\"secon value\"))\n",
    "\n",
    "c1 = Calc(v1, v2)\n",
    "\n",
    "if selection == \"1\":\n",
    "    result = add_result = c1.add()\n",
    "elif selection == \"2\":\n",
    "    result = multiply_result = c1.multiply()\n",
    "elif selection == \"3\":\n",
    "    result = multiply_result = c1.divition()\n",
    "    \n",
    "print(\"Result: \", result)"
   ]
  },
  {
   "cell_type": "markdown",
   "id": "b49a51d5",
   "metadata": {},
   "source": [
    "# Kapsülleme"
   ]
  },
  {
   "cell_type": "code",
   "execution_count": 55,
   "id": "c6760b85",
   "metadata": {},
   "outputs": [
    {
     "name": "stdout",
     "output_type": "stream",
     "text": [
      "get method:  1000\n",
      "after set method:  5000\n",
      "after increase method:  5500\n"
     ]
    }
   ],
   "source": [
    "class BankAccount(object):\n",
    "    def __init__(self, name, money, address):\n",
    "        self.name = name # global\n",
    "        self.__money = money # private\n",
    "        self.address = address\n",
    "        \n",
    "    def getMoney(self):\n",
    "        return self.__money\n",
    "    def setMoney(self, amount):\n",
    "        self.__money = amount\n",
    "    def increase(self, amount):\n",
    "        self.__money = self.__money + amount\n",
    "        \n",
    "p1 = BankAccount(\"messi\", 1000, \"barcelona\")\n",
    "p2 = BankAccount(\"neymar\", 2000, \"paris\")\n",
    "\n",
    "#p2.__money = p2.__money + p1.__money\n",
    "#p1.money = 0\n",
    "\n",
    "print(\"get method: \", p1.getMoney())\n",
    "#print (\"get method: \", p1.__money)\n",
    "p1.setMoney(5000)\n",
    "print(\"after set method: \", p1.getMoney())\n",
    "p1.increase(500)\n",
    "print(\"after increase method: \", p1.getMoney())"
   ]
  },
  {
   "cell_type": "code",
   "execution_count": 50,
   "id": "7502633f",
   "metadata": {},
   "outputs": [
    {
     "name": "stdout",
     "output_type": "stream",
     "text": [
      "get method:  2000\n"
     ]
    }
   ],
   "source": []
  },
  {
   "cell_type": "code",
   "execution_count": null,
   "id": "ea3562fd",
   "metadata": {},
   "outputs": [],
   "source": []
  }
 ],
 "metadata": {
  "kernelspec": {
   "display_name": "Python 3 (ipykernel)",
   "language": "python",
   "name": "python3"
  },
  "language_info": {
   "codemirror_mode": {
    "name": "ipython",
    "version": 3
   },
   "file_extension": ".py",
   "mimetype": "text/x-python",
   "name": "python",
   "nbconvert_exporter": "python",
   "pygments_lexer": "ipython3",
   "version": "3.8.12"
  }
 },
 "nbformat": 4,
 "nbformat_minor": 5
}
