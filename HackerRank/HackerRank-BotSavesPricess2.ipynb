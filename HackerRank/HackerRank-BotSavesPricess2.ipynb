{
 "cells": [
  {
   "cell_type": "code",
   "execution_count": 2,
   "id": "4f698134",
   "metadata": {},
   "outputs": [
    {
     "name": "stdout",
     "output_type": "stream",
     "text": [
      "pose:  2 0\n",
      "move:  0 3\n",
      "LEFT\n"
     ]
    }
   ],
   "source": [
    "r_pose, c_pose = -1, -1\n",
    "\n",
    "def find_princess():\n",
    "    global r_pose, c_pose\n",
    "    temp = 0\n",
    "    for i in grid:\n",
    "        r_pose += 1\n",
    "        for j in i:\n",
    "            if (j == \"p\"):\n",
    "                temp = 1\n",
    "                break\n",
    "            c_pose += 1\n",
    "        if temp == 1:\n",
    "            break\n",
    "        c_pose = 0\n",
    "\n",
    "def nextMove(n,r,c,grid):\n",
    "    global r_pose, c_pose\n",
    "    next_move = \"\"\n",
    "    r_move, c_move = (r - r_pose), (c - c_pose)\n",
    "    print(\"pose: \", r_pose, c_pose)\n",
    "    print(\"move: \", r_move, c_move)\n",
    "    if c_move != 0:\n",
    "        if c_move > 0:\n",
    "            next_move = \"LEFT\"\n",
    "            c_pose -= 1\n",
    "        else:\n",
    "            next_move = \"RIGHT\"\n",
    "            c_pose += 1\n",
    "    elif r_move != 0:\n",
    "        if r_move > 0:\n",
    "            next_move = \"UP\"\n",
    "            r_pose -= 1\n",
    "        else:\n",
    "            next_move = \"DOWN\"\n",
    "            r_pose += 1\n",
    "            \n",
    "    return next_move\n",
    "\n",
    "n, r, c  = 5, 2, 3\n",
    "\n",
    "grid = [[\"-\", \"-\", \"-\", \"-\", \"-\"],\n",
    "        [\"-\", \"-\", \"-\", \"-\", \"-\"],\n",
    "        [\"p\", \"-\", \"m\", \"-\", \"-\"],\n",
    "        [\"-\", \"-\", \"-\", \"-\", \"-\"],\n",
    "        [\"-\", \"-\", \"-\", \"-\", \"-\"]]\n",
    "\n",
    "find_princess()\n",
    "print(nextMove(n,r,c,grid))"
   ]
  },
  {
   "cell_type": "code",
   "execution_count": null,
   "id": "704041bf",
   "metadata": {},
   "outputs": [],
   "source": []
  },
  {
   "cell_type": "code",
   "execution_count": null,
   "id": "4541b996",
   "metadata": {},
   "outputs": [],
   "source": []
  }
 ],
 "metadata": {
  "kernelspec": {
   "display_name": "Python 3 (ipykernel)",
   "language": "python",
   "name": "python3"
  },
  "language_info": {
   "codemirror_mode": {
    "name": "ipython",
    "version": 3
   },
   "file_extension": ".py",
   "mimetype": "text/x-python",
   "name": "python",
   "nbconvert_exporter": "python",
   "pygments_lexer": "ipython3",
   "version": "3.8.12"
  }
 },
 "nbformat": 4,
 "nbformat_minor": 5
}
