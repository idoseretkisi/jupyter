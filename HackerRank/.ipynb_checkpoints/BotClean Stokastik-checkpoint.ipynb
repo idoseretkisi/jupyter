{
 "cells": [
  {
   "cell_type": "code",
   "execution_count": null,
   "id": "1f4e73a0",
   "metadata": {},
   "outputs": [],
   "source": [
    "import math\n",
    "\n",
    "def nextMove(posr, posc, board):\n",
    "    if board[posr][posc] == \"d\":\n",
    "        print(\"CLEAN\")\n",
    "        \n",
    "    else:\n",
    "        next = []\n",
    "        for r_dirty in range(len(board)):\n",
    "            for c_dirty in range(len(board)):\n",
    "                if board[r_dirty][c_dirty] == \"d\":\n",
    "                    next.append([r_dirty, c_dirty])\n",
    "        \n",
    "        if next[0][1] < posc:\n",
    "            print('LEFT')\n",
    "        elif next[0][1]  > posc:\n",
    "            print('RIGHT')\n",
    "        elif next[0][0] < posr:\n",
    "            print('UP')\n",
    "        elif next[0][0] > posr:\n",
    "            print('DOWN')\n",
    "        else:\n",
    "            print('CLEAN')\n",
    "\n",
    "\n",
    "if __name__ == \"__main__\":\n",
    "    pos = [int(i) for i in input().strip().split()]\n",
    "    board = [[j for j in input().strip()] for i in range(5)]\n",
    "    nextMove(pos[0], pos[1], board)"
   ]
  }
 ],
 "metadata": {
  "kernelspec": {
   "display_name": "Python 3 (ipykernel)",
   "language": "python",
   "name": "python3"
  },
  "language_info": {
   "codemirror_mode": {
    "name": "ipython",
    "version": 3
   },
   "file_extension": ".py",
   "mimetype": "text/x-python",
   "name": "python",
   "nbconvert_exporter": "python",
   "pygments_lexer": "ipython3",
   "version": "3.8.12"
  }
 },
 "nbformat": 4,
 "nbformat_minor": 5
}
