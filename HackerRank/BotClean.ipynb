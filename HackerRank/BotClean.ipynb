{
 "cells": [
  {
   "cell_type": "code",
   "execution_count": null,
   "id": "e63056a3",
   "metadata": {},
   "outputs": [],
   "source": [
    "#!/usr/bin/python\n",
    "\n",
    "# Head ends here\n",
    "\n",
    "r_dirty, c_dirty = 0, 0\n",
    "\n",
    "def next_move(posr, posc, board):\n",
    "    global r_dirty, c_dirty\n",
    "    if board[posr][posc] == \"d\":\n",
    "        print(\"CLEAN\")\n",
    "    else:\n",
    "        for r_dirty in range(len(board)):\n",
    "            temp = 0\n",
    "            for c_dirty in range(len(board)):\n",
    "                if board[r_dirty][c_dirty] == \"d\":\n",
    "                    temp = 1\n",
    "                    break\n",
    "            if temp == 1:\n",
    "                break\n",
    "                    \n",
    "        r_move, c_move = (posr - r_dirty), (posc - c_dirty)\n",
    "        if c_move != 0:\n",
    "            if c_move > 0:\n",
    "                print(\"LEFT\")\n",
    "            else:\n",
    "                print(\"RIGHT\")\n",
    "        elif r_move != 0:\n",
    "            if r_move > 0:\n",
    "                print(\"UP\")\n",
    "            else:\n",
    "                print(\"DOWN\")\n",
    "\n",
    "            \n",
    "    \n",
    "\n",
    "# Tail starts here\n",
    "\n",
    "if __name__ == \"__main__\":\n",
    "    pos = [int(i) for i in input().strip().split()]\n",
    "    board = [[j for j in input().strip()] for i in range(5)]\n",
    "    next_move(pos[0], pos[1], board)"
   ]
  }
 ],
 "metadata": {
  "kernelspec": {
   "display_name": "Python 3 (ipykernel)",
   "language": "python",
   "name": "python3"
  },
  "language_info": {
   "codemirror_mode": {
    "name": "ipython",
    "version": 3
   },
   "file_extension": ".py",
   "mimetype": "text/x-python",
   "name": "python",
   "nbconvert_exporter": "python",
   "pygments_lexer": "ipython3",
   "version": "3.8.12"
  }
 },
 "nbformat": 4,
 "nbformat_minor": 5
}
