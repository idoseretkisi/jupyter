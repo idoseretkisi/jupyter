{
 "cells": [
  {
   "cell_type": "code",
   "execution_count": 1,
   "id": "06a702f7-4124-43c2-8c7b-7477b3ac606c",
   "metadata": {},
   "outputs": [],
   "source": [
    "import numpy as np\n",
    "import matplotlib.pyplot as plt\n",
    "import seaborn as sns\n",
    "\n",
    "from keras.datasets import imdb\n",
    "from keras.preprocessing.sequence import pad_sequences\n",
    "from keras.models import Sequential\n",
    "from keras.layers.embeddings import Embedding\n",
    "from keras.layers import SimpleRNN, Dense, Activation\n",
    "\n",
    "import warnings\n",
    "warnings.filterwarnings(\"ignore\")"
   ]
  },
  {
   "cell_type": "code",
   "execution_count": 2,
   "id": "99b83912-5613-46f4-a709-ee114d71c938",
   "metadata": {},
   "outputs": [],
   "source": [
    "(X_train, Y_train), (X_test, Y_test) = imdb.load_data(path=\"imdb.npz\",\n",
    "                                                       num_words=None,\n",
    "                                                       skip_top=0,\n",
    "                                                       maxlen=None,\n",
    "                                                       seed=113,\n",
    "                                                       start_char=1,\n",
    "                                                       oov_char=2,\n",
    "                                                       index_from=3)"
   ]
  },
  {
   "cell_type": "code",
   "execution_count": 3,
   "id": "734f66eb-34b0-44bd-82d3-6c6823c98121",
   "metadata": {},
   "outputs": [
    {
     "name": "stdout",
     "output_type": "stream",
     "text": [
      "Type <class 'numpy.ndarray'>\n"
     ]
    }
   ],
   "source": [
    "print(\"Type\", type(X_train))"
   ]
  },
  {
   "cell_type": "code",
   "execution_count": 4,
   "id": "b85b9d72-9d55-4258-a883-9f990fd3d334",
   "metadata": {},
   "outputs": [
    {
     "name": "stdout",
     "output_type": "stream",
     "text": [
      "X_train shape:  (25000,)\n"
     ]
    }
   ],
   "source": [
    "print(\"X_train shape: \", X_train.shape)"
   ]
  },
  {
   "cell_type": "code",
   "execution_count": 5,
   "id": "6dcf617a-ccf3-4c6c-92ad-bda87268228e",
   "metadata": {},
   "outputs": [
    {
     "name": "stdout",
     "output_type": "stream",
     "text": [
      "Y_Train shape: (25000,)\n"
     ]
    }
   ],
   "source": [
    "print(\"Y_Train shape:\", Y_train.shape)"
   ]
  },
  {
   "cell_type": "code",
   "execution_count": 6,
   "id": "40609f93-4980-4e54-8d51-98c20951276d",
   "metadata": {},
   "outputs": [
    {
     "name": "stdout",
     "output_type": "stream",
     "text": [
      "Y train values:  [0 1]\n",
      "Y test values:  [0 1]\n"
     ]
    }
   ],
   "source": [
    "print(\"Y train values: \", np.unique(Y_train))\n",
    "print(\"Y test values: \", np.unique(Y_test))"
   ]
  },
  {
   "cell_type": "code",
   "execution_count": 7,
   "id": "184c1677-a1ff-476b-9c55-dce74710a48a",
   "metadata": {},
   "outputs": [
    {
     "name": "stdout",
     "output_type": "stream",
     "text": [
      "Y train distribution:  {0: 12500, 1: 12500}\n"
     ]
    }
   ],
   "source": [
    "unique, counts = np.unique(Y_train, return_counts = True)\n",
    "print(\"Y train distribution: \",dict(zip(unique,counts)))"
   ]
  },
  {
   "cell_type": "code",
   "execution_count": 8,
   "id": "15819165-ebe6-4aa9-8584-619c36b86c8c",
   "metadata": {},
   "outputs": [
    {
     "name": "stdout",
     "output_type": "stream",
     "text": [
      "Y test distribution:  {0: 12500, 1: 12500}\n"
     ]
    }
   ],
   "source": [
    "unique, counts = np.unique(Y_test, return_counts = True)\n",
    "print(\"Y test distribution: \",dict(zip(unique,counts)))"
   ]
  },
  {
   "cell_type": "code",
   "execution_count": 9,
   "id": "f4f2aebc-0dae-4081-935d-178f9113a6e3",
   "metadata": {},
   "outputs": [
    {
     "data": {
      "text/plain": [
       "Text(0.5, 1.0, 'Y test')"
      ]
     },
     "execution_count": 9,
     "metadata": {},
     "output_type": "execute_result"
    },
    {
     "data": {
      "image/png": "[encoded data removed]",
      "text/plain": [
       "<Figure size 432x288 with 1 Axes>"
      ]
     },
     "metadata": {
      "needs_background": "light"
     },
     "output_type": "display_data"
    },
    {
     "data": {
      "image/png": "[encoded data removed]",
      "text/plain": [
       "<Figure size 432x288 with 1 Axes>"
      ]
     },
     "metadata": {
      "needs_background": "light"
     },
     "output_type": "display_data"
    }
   ],
   "source": [
    "plt.figure()\n",
    "sns.countplot(Y_train)\n",
    "plt.title(\"Y train\")\n",
    "\n",
    "plt.figure()\n",
    "sns.countplot(Y_test)\n",
    "plt.title(\"Y test\")"
   ]
  },
  {
   "cell_type": "code",
   "execution_count": 10,
   "id": "94387340-fff5-49eb-ba02-50f45a9ed914",
   "metadata": {},
   "outputs": [
    {
     "name": "stdout",
     "output_type": "stream",
     "text": [
      "[1, 14, 22, 16, 43, 530, 973, 1622, 1385, 65, 458, 4468, 66, 3941, 4, 173, 36, 256, 5, 25, 100, 43, 838, 112, 50, 670, 22665, 9, 35, 480, 284, 5, 150, 4, 172, 112, 167, 21631, 336, 385, 39, 4, 172, 4536, 1111, 17, 546, 38, 13, 447, 4, 192, 50, 16, 6, 147, 2025, 19, 14, 22, 4, 1920, 4613, 469, 4, 22, 71, 87, 12, 16, 43, 530, 38, 76, 15, 13, 1247, 4, 22, 17, 515, 17, 12, 16, 626, 18, 19193, 5, 62, 386, 12, 8, 316, 8, 106, 5, 4, 2223, 5244, 16, 480, 66, 3785, 33, 4, 130, 12, 16, 38, 619, 5, 25, 124, 51, 36, 135, 48, 25, 1415, 33, 6, 22, 12, 215, 28, 77, 52, 5, 14, 407, 16, 82, 10311, 8, 4, 107, 117, 5952, 15, 256, 4, 31050, 7, 3766, 5, 723, 36, 71, 43, 530, 476, 26, 400, 317, 46, 7, 4, 12118, 1029, 13, 104, 88, 4, 381, 15, 297, 98, 32, 2071, 56, 26, 141, 6, 194, 7486, 18, 4, 226, 22, 21, 134, 476, 26, 480, 5, 144, 30, 5535, 18, 51, 36, 28, 224, 92, 25, 104, 4, 226, 65, 16, 38, 1334, 88, 12, 16, 283, 5, 16, 4472, 113, 103, 32, 15, 16, 5345, 19, 178, 32] <class 'int'>\n"
     ]
    }
   ],
   "source": [
    "print(X_train[0], type(X_train[0][0]))"
   ]
  },
  {
   "cell_type": "code",
   "execution_count": 11,
   "id": "efafa75d-9ce0-4f93-bec9-9d478fcd50d5",
   "metadata": {},
   "outputs": [],
   "source": [
    "review_len_train = []\n",
    "review_len_test = []\n",
    "\n",
    "for i, ii in zip(X_train, X_test):\n",
    "    review_len_train.append(len(i))\n",
    "    review_len_test.append(len(ii))"
   ]
  },
  {
   "cell_type": "code",
   "execution_count": 12,
   "id": "53c2856b-b14d-4839-aef9-2c858360dca7",
   "metadata": {},
   "outputs": [
    {
     "data": {
      "text/plain": [
       "<AxesSubplot:ylabel='Density'>"
      ]
     },
     "execution_count": 12,
     "metadata": {},
     "output_type": "execute_result"
    },
    {
     "data": {
      "image/png": "[encoded data removed]",
      "text/plain": [
       "<Figure size 432x288 with 1 Axes>"
      ]
     },
     "metadata": {
      "needs_background": "light"
     },
     "output_type": "display_data"
    }
   ],
   "source": [
    "sns.distplot(review_len_train, hist_kws = {\"alpha\":0.3})\n",
    "sns.distplot(review_len_test, hist_kws= {\"alpha\":0.3})"
   ]
  },
  {
   "cell_type": "code",
   "execution_count": 13,
   "id": "0001d4cb-9ce0-41c7-a528-b5281e29059e",
   "metadata": {},
   "outputs": [
    {
     "name": "stdout",
     "output_type": "stream",
     "text": [
      "Train mean:  238.71364\n",
      "Train median:  178.0\n"
     ]
    }
   ],
   "source": [
    "print(\"Train mean: \", np.mean(review_len_train))\n",
    "print(\"Train median: \", np.median(review_len_train))"
   ]
  },
  {
   "cell_type": "code",
   "execution_count": 14,
   "id": "7f0c8251-36f0-4d7a-92b0-3853da60b29d",
   "metadata": {},
   "outputs": [
    {
     "name": "stdout",
     "output_type": "stream",
     "text": [
      "<class 'dict'>\n",
      "88584\n"
     ]
    }
   ],
   "source": [
    "word_index = imdb.get_word_index()\n",
    "print(type(word_index))\n",
    "print(len(word_index))"
   ]
  },
  {
   "cell_type": "code",
   "execution_count": 15,
   "id": "a7242d45-76fc-4f15-b9b1-6275c94c6109",
   "metadata": {},
   "outputs": [
    {
     "name": "stdout",
     "output_type": "stream",
     "text": [
      "the\n"
     ]
    }
   ],
   "source": [
    "for keys, values in word_index.items():\n",
    "    if values == 1:\n",
    "        print(keys)"
   ]
  },
  {
   "cell_type": "code",
   "execution_count": 16,
   "id": "0c240203-2f69-4aff-a193-94ef2404c0d2",
   "metadata": {},
   "outputs": [
    {
     "name": "stdout",
     "output_type": "stream",
     "text": [
      "! sorry i just didn't find the subject matter as compelling as the filmmaker did the robot guy and the mole rat guy were pretty interesting although morris didn't really tell us much about them the other two subjects were a bore and the supposed connections between them didn't hold up\n",
      "0\n"
     ]
    }
   ],
   "source": [
    "def whatItSay(index = 24):\n",
    "    reverse_index = dict([(value, key) for (key, value) in word_index.items()])\n",
    "    decode_review = \" \".join([reverse_index.get(i - 3, \"!\") for i in X_train[index]])\n",
    "    print(decode_review)\n",
    "    print(Y_train[index])\n",
    "    return decode_review\n",
    "\n",
    "decoded_review = whatItSay(36)"
   ]
  },
  {
   "cell_type": "code",
   "execution_count": 17,
   "id": "65797b05-20e7-4aa8-9f37-edf9bbda58dd",
   "metadata": {},
   "outputs": [],
   "source": [
    "num_word =15000\n",
    "(X_train, Y_train), (X_test, Y_test) = imdb.load_data(num_words=num_word)"
   ]
  },
  {
   "cell_type": "code",
   "execution_count": 18,
   "id": "92b43bbd-9dd5-4592-94c1-f96bc4b1b84d",
   "metadata": {},
   "outputs": [],
   "source": [
    "maxlen = 130\n",
    "X_train = pad_sequences(X_train, maxlen=maxlen)\n",
    "X_test = pad_sequences(X_test, maxlen=maxlen)"
   ]
  },
  {
   "cell_type": "code",
   "execution_count": 19,
   "id": "9cfa0bef-23db-4c10-8866-374415087717",
   "metadata": {},
   "outputs": [
    {
     "name": "stdout",
     "output_type": "stream",
     "text": [
      "[   0    0    0    0    0    0    0    0    0    0    0    0    0    0\n",
      "    0    0    0    0    0    0    0    0    0    0    0    0    0    0\n",
      "    0    0    0    0    0    0    0    0    0    0    0    0    0    0\n",
      "    0    0    0    0    0    0    0    0    0    0    0    0    0    0\n",
      "    0    0    0    0    0    0    0    0    0    0    0    0    0    0\n",
      "    0    0    0    0    0    0    0    0    0    0    0    0    0    0\n",
      "    0    0    0    1  778  128   74   12  630  163   15    4 1766 7982\n",
      " 1051    2   32   85  156   45   40  148  139  121  664  665   10   10\n",
      " 1361  173    4  749    2   16 3804    8    4  226   65   12   43  127\n",
      "   24    2   10   10]\n"
     ]
    }
   ],
   "source": [
    "print(X_train[5])"
   ]
  },
  {
   "cell_type": "code",
   "execution_count": 20,
   "id": "e6bbe4ab-8c8a-4c04-8c7d-88cca6905714",
   "metadata": {},
   "outputs": [
    {
     "name": "stdout",
     "output_type": "stream",
     "text": [
      "130\n",
      "130\n",
      "130\n",
      "130\n",
      "130\n",
      "130\n",
      "130\n",
      "130\n",
      "130\n",
      "130\n"
     ]
    }
   ],
   "source": [
    "for i in X_train[0:10]:\n",
    "    print(len(i))"
   ]
  },
  {
   "cell_type": "code",
   "execution_count": 21,
   "id": "9a2cc473-c32e-4a88-bcd4-31e165627758",
   "metadata": {},
   "outputs": [
    {
     "name": "stdout",
     "output_type": "stream",
     "text": [
      "! ! ! ! ! ! ! ! ! ! ! ! ! ! ! ! ! ! ! ! ! ! ! ! ! ! ! ! ! ! ! ! ! ! ! ! ! ! ! ! ! ! ! ! ! ! ! ! ! ! ! ! ! ! ! ! ! ! ! ! ! ! ! ! ! ! ! ! ! ! ! ! ! ! ! ! ! ! ! ! ! ! ! ! ! ! ! ! begins better than it ends funny that the russian submarine crew ! all other actors it's like those scenes where documentary shots br br spoiler part the message ! was contrary to the whole story it just does not ! br br\n",
      "0\n"
     ]
    }
   ],
   "source": [
    "decoded_review = whatItSay(5)"
   ]
  },
  {
   "cell_type": "code",
   "execution_count": 22,
   "id": "c5e295a9-8ace-4051-8735-022661c53714",
   "metadata": {},
   "outputs": [
    {
     "name": "stdout",
     "output_type": "stream",
     "text": [
      "Model: \"sequential\"\n",
      "_________________________________________________________________\n",
      "Layer (type)                 Output Shape              Param #   \n",
      "=================================================================\n",
      "embedding (Embedding)        (None, 130, 32)           480000    \n",
      "_________________________________________________________________\n",
      "simple_rnn (SimpleRNN)       (None, 16)                784       \n",
      "_________________________________________________________________\n",
      "dense (Dense)                (None, 1)                 17        \n",
      "_________________________________________________________________\n",
      "activation (Activation)      (None, 1)                 0         \n",
      "=================================================================\n",
      "Total params: 480,801\n",
      "Trainable params: 480,801\n",
      "Non-trainable params: 0\n",
      "_________________________________________________________________\n",
      "None\n"
     ]
    }
   ],
   "source": [
    "rnn = Sequential()\n",
    "rnn.add(Embedding(num_word, 32, input_length=len(X_train[0])))\n",
    "rnn.add(SimpleRNN(16, input_shape=(num_word,maxlen), return_sequences=False, activation=\"relu\"))\n",
    "rnn.add(Dense(1))\n",
    "rnn.add(Activation(\"sigmoid\"))\n",
    "print(rnn.summary())\n",
    "rnn.compile(loss = \"binary_crossentropy\", optimizer=\"rmsprop\",metrics=[\"accuracy\"])"
   ]
  },
  {
   "cell_type": "code",
   "execution_count": 23,
   "id": "b7720075-7621-4b19-9012-8d21cb464dd9",
   "metadata": {},
   "outputs": [
    {
     "name": "stdout",
     "output_type": "stream",
     "text": [
      "Epoch 1/5\n",
      "196/196 [==============================] - 10s 49ms/step - loss: 0.6606 - accuracy: 0.6168 - val_loss: 0.6235 - val_accuracy: 0.6388\n",
      "Epoch 2/5\n",
      "196/196 [==============================] - 9s 45ms/step - loss: 0.4802 - accuracy: 0.7824 - val_loss: 0.4445 - val_accuracy: 0.7922\n",
      "Epoch 3/5\n",
      "196/196 [==============================] - 9s 45ms/step - loss: 0.3598 - accuracy: 0.8456 - val_loss: 0.3946 - val_accuracy: 0.8300\n",
      "Epoch 4/5\n",
      "196/196 [==============================] - 9s 45ms/step - loss: 0.2879 - accuracy: 0.8828 - val_loss: 0.3426 - val_accuracy: 0.8532\n",
      "Epoch 5/5\n",
      "196/196 [==============================] - 9s 46ms/step - loss: 0.2481 - accuracy: 0.9018 - val_loss: 0.3476 - val_accuracy: 0.8564\n"
     ]
    }
   ],
   "source": [
    "history = rnn.fit(X_train, Y_train, validation_data=(X_test, Y_test), epochs=5, batch_size = 128, verbose=1)"
   ]
  },
  {
   "cell_type": "code",
   "execution_count": 24,
   "id": "c20b51cb-012a-4a7f-b8c1-dbbef0a5d3bd",
   "metadata": {},
   "outputs": [
    {
     "name": "stdout",
     "output_type": "stream",
     "text": [
      "782/782 [==============================] - 9s 11ms/step - loss: 0.3476 - accuracy: 0.8564\n",
      "Accuracy: % 85.6440007686615\n"
     ]
    }
   ],
   "source": [
    "score = rnn.evaluate(X_test, Y_test)\n",
    "print(\"Accuracy: %\", score[1]*100)"
   ]
  },
  {
   "cell_type": "code",
   "execution_count": 25,
   "id": "ca00ed33-f223-4b05-8832-09d58b8e1923",
   "metadata": {},
   "outputs": [
    {
     "data": {
      "text/plain": [
       "<matplotlib.legend.Legend at 0x2330c8cb8e0>"
      ]
     },
     "execution_count": 25,
     "metadata": {},
     "output_type": "execute_result"
    },
    {
     "data": {
      "image/png": "[encoded data removed]",
      "text/plain": [
       "<Figure size 432x288 with 1 Axes>"
      ]
     },
     "metadata": {
      "needs_background": "light"
     },
     "output_type": "display_data"
    }
   ],
   "source": [
    "plt.figure()\n",
    "plt.plot(history.history[\"accuracy\"], label = \"Train\")\n",
    "plt.plot(history.history[\"val_accuracy\"], label = \"Test\")\n",
    "plt.title(\"Acc\")\n",
    "plt.ylabel(\"Acc\")\n",
    "plt.xlabel(\"Epochs\")\n",
    "plt.legend()"
   ]
  },
  {
   "cell_type": "code",
   "execution_count": 26,
   "id": "4893e106-927d-4abb-8e06-7a0c52cec22c",
   "metadata": {},
   "outputs": [
    {
     "data": {
      "text/plain": [
       "<matplotlib.legend.Legend at 0x2330ea6c760>"
      ]
     },
     "execution_count": 26,
     "metadata": {},
     "output_type": "execute_result"
    },
    {
     "data": {
      "image/png": "[encoded data removed]",
      "text/plain": [
       "<Figure size 432x288 with 1 Axes>"
      ]
     },
     "metadata": {
      "needs_background": "light"
     },
     "output_type": "display_data"
    }
   ],
   "source": [
    "plt.figure()\n",
    "plt.plot(history.history[\"loss\"], label = \"Train\")\n",
    "plt.plot(history.history[\"val_loss\"], label = \"Test\")\n",
    "plt.title(\"Loss\")\n",
    "plt.ylabel(\"Loss\")\n",
    "plt.xlabel(\"Epochs\")\n",
    "plt.legend()"
   ]
  }
 ],
 "metadata": {
  "kernelspec": {
   "display_name": "Python 3 (ipykernel)",
   "language": "python",
   "name": "python3"
  },
  "language_info": {
   "codemirror_mode": {
    "name": "ipython",
    "version": 3
   },
   "file_extension": ".py",
   "mimetype": "text/x-python",
   "name": "python",
   "nbconvert_exporter": "python",
   "pygments_lexer": "ipython3",
   "version": "3.8.5"
  }
 },
 "nbformat": 4,
 "nbformat_minor": 5
}
