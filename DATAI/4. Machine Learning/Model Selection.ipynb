{
 "cells": [
  {
   "cell_type": "markdown",
   "id": "8fd5d329",
   "metadata": {
    "slideshow": {
     "slide_type": "notes"
    },
    "tags": []
   },
   "source": [
    "# Model Selection\n",
    "### parametreler\n",
    "1. öğrenilen parametreler\n",
    "2. seçilen parametreler (hyperparameter) \n",
    "\n",
    "## K FOLD CROSS VALIDATION\n",
    "avoid overfitting"
   ]
  },
  {
   "cell_type": "code",
   "execution_count": 10,
   "id": "8e75ee45",
   "metadata": {
    "tags": [
     "Kfold",
     "KNeighborsClassifier"
    ]
   },
   "outputs": [
    {
     "name": "stdout",
     "output_type": "stream",
     "text": [
      "avarege acc:  0.9583333333333334\n",
      "average std:  0.06718548123582123\n"
     ]
    }
   ],
   "source": [
    "from sklearn.datasets import load_iris\n",
    "import pandas as pd\n",
    "import numpy as np\n",
    "\n",
    "iris = load_iris()\n",
    "\n",
    "x = iris.data\n",
    "y = iris.target\n",
    "\n",
    "x = (x-np.min(x))/(np.max(x)-np.min(x))\n",
    "\n",
    "from sklearn.model_selection import train_test_split\n",
    "x_train, x_test, y_train, y_test = train_test_split(x, y, test_size = 0.2)\n",
    "\n",
    "from sklearn.neighbors import KNeighborsClassifier\n",
    "knn = KNeighborsClassifier(n_neighbors = 3)\n",
    "\n",
    "from sklearn.model_selection import cross_val_score\n",
    "accuracies = cross_val_score(estimator = knn, X = x_train, y = y_train, cv = 10)\n",
    "\n",
    "print(\"avarege acc: \", np.mean(accuracies))\n",
    "print(\"average std: \", np.std(accuracies))"
   ]
  },
  {
   "cell_type": "code",
   "execution_count": 11,
   "id": "c6c91c4f",
   "metadata": {
    "tags": [
     "Kfold",
     "KNeighborsClassifier"
    ]
   },
   "outputs": [
    {
     "name": "stdout",
     "output_type": "stream",
     "text": [
      "test acc:  0.9666666666666667\n"
     ]
    }
   ],
   "source": [
    "knn.fit(x_train, y_train)\n",
    "print(\"test acc: \", knn.score(x_test, y_test))"
   ]
  },
  {
   "cell_type": "markdown",
   "id": "c1b11113",
   "metadata": {
    "slideshow": {
     "slide_type": "notes"
    },
    "tags": []
   },
   "source": [
    "## GRID SEARCH CROSS VALIDATION"
   ]
  },
  {
   "cell_type": "code",
   "execution_count": 12,
   "id": "caff9d27",
   "metadata": {
    "tags": [
     "GridSeach",
     "KNeighborsClassifier"
    ]
   },
   "outputs": [
    {
     "data": {
      "text/plain": [
       "GridSearchCV(cv=10, estimator=KNeighborsClassifier(n_neighbors=3),\n",
       "             param_grid={'n_neighbors': array([ 1,  2,  3,  4,  5,  6,  7,  8,  9, 10, 11, 12, 13, 14, 15, 16, 17,\n",
       "       18, 19, 20, 21, 22, 23, 24, 25, 26, 27, 28, 29, 30, 31, 32, 33, 34,\n",
       "       35, 36, 37, 38, 39, 40, 41, 42, 43, 44, 45, 46, 47, 48, 49])})"
      ]
     },
     "execution_count": 12,
     "metadata": {},
     "output_type": "execute_result"
    }
   ],
   "source": [
    "from sklearn.model_selection import GridSearchCV\n",
    "grid = {\"n_neighbors\": np.arange(1, 50)}\n",
    "knn_cv = GridSearchCV(knn, grid, cv = 10)\n",
    "knn_cv.fit(x_train, y_train)"
   ]
  },
  {
   "cell_type": "code",
   "execution_count": 13,
   "id": "ec05236b",
   "metadata": {
    "tags": [
     "GridSeach",
     "KNeighborsClassifier"
    ]
   },
   "outputs": [
    {
     "name": "stdout",
     "output_type": "stream",
     "text": [
      "tuned hyperparameter K:  {'n_neighbors': 8}\n",
      "tuned best acc:  0.9666666666666668\n"
     ]
    }
   ],
   "source": [
    "print(\"tuned hyperparameter K: \", knn_cv.best_params_)\n",
    "print(\"tuned best acc: \", knn_cv.best_score_)"
   ]
  },
  {
   "cell_type": "code",
   "execution_count": 19,
   "id": "55256b19",
   "metadata": {
    "tags": [
     "GridSeach",
     "LogisticRegression"
    ]
   },
   "outputs": [
    {
     "name": "stdout",
     "output_type": "stream",
     "text": [
      "tuned hyperparameter:  {'C': 100.0, 'penalty': 'l2'}\n",
      "acc:  0.9583333333333334\n"
     ]
    }
   ],
   "source": [
    "import warnings\n",
    "warnings.filterwarnings(\"ignore\")\n",
    "\n",
    "from sklearn.linear_model import LogisticRegression\n",
    "grid = {\"C\":np.logspace(-3, 3, 7), \"penalty\":[\"l1\", \"l2\"]}\n",
    "logreg = LogisticRegression()\n",
    "\n",
    "logreg_cv = GridSearchCV(logreg, grid, cv=10)\n",
    "logreg_cv.fit(x_train,y_train)\n",
    "\n",
    "print(\"tuned hyperparameter: \", logreg_cv.best_params_)\n",
    "print(\"acc: \", logreg_cv.best_score_)"
   ]
  },
  {
   "cell_type": "code",
   "execution_count": 21,
   "id": "f25de31a",
   "metadata": {
    "tags": [
     "GridSeach",
     "LogisticRegression"
    ]
   },
   "outputs": [
    {
     "name": "stdout",
     "output_type": "stream",
     "text": [
      "test acc:  0.9666666666666667\n"
     ]
    }
   ],
   "source": [
    "logreg = LogisticRegression(C = 100, penalty = \"l2\")\n",
    "logreg.fit(x_train, y_train)\n",
    "print(\"test acc: \", logreg.score(x_test, y_test))"
   ]
  }
 ],
 "metadata": {
  "kernelspec": {
   "display_name": "Python 3",
   "language": "python",
   "name": "python3"
  },
  "language_info": {
   "codemirror_mode": {
    "name": "ipython",
    "version": 3
   },
   "file_extension": ".py",
   "mimetype": "text/x-python",
   "name": "python",
   "nbconvert_exporter": "python",
   "pygments_lexer": "ipython3",
   "version": "3.8.5"
  },
  "toc-autonumbering": false,
  "toc-showcode": true,
  "toc-showmarkdowntxt": true,
  "toc-showtags": true
 },
 "nbformat": 4,
 "nbformat_minor": 5
}
