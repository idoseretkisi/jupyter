{
 "cells": [
  {
   "cell_type": "code",
   "execution_count": 2,
   "id": "e8ae96b8-0e03-4c96-857e-6f49b520a214",
   "metadata": {
    "tags": []
   },
   "outputs": [],
   "source": [
    "import pandas as pd\n",
    "import numpy as np\n",
    "import matplotlib.pyplot as plt\n",
    "\n",
    "import torch \n",
    "import torch.nn as nn\n",
    "import torch.nn.functional as f\n",
    "import torch.utils.data\n",
    "\n",
    "from PIL import Image\n",
    "import matplotlib.pyplot as plt\n",
    "import numpy as np\n",
    "import os\n",
    "import time"
   ]
  },
  {
   "cell_type": "code",
   "execution_count": 3,
   "id": "57bbec33-779d-44c7-8c32-334f17eae805",
   "metadata": {},
   "outputs": [
    {
     "name": "stdout",
     "output_type": "stream",
     "text": [
      "Device:  cpu\n"
     ]
    }
   ],
   "source": [
    "## device confic DEFAUTL GPU\n",
    "device = torch.device(\"cuda: 0\" if torch.cuda.is_available() else \"cpu\")\n",
    "print(\"Device: \", device)"
   ]
  },
  {
   "cell_type": "code",
   "execution_count": 4,
   "id": "f2454146-9e34-477b-b965-85ee5a101291",
   "metadata": {
    "tags": []
   },
   "outputs": [],
   "source": [
    "## prepocessing\n",
    "def read_images(path, num_img):\n",
    "    array = np.zeros([num_img, 64*32])\n",
    "    i = 0\n",
    "    for img in os.listdir(path):\n",
    "        img_path = path + \"\\\\\" + img\n",
    "        img = Image.open(img_path, mode = \"r\")\n",
    "        data = np.asarray(img, dtype = \"uint8\")\n",
    "        data = data.flatten()\n",
    "        array[i, :] = data\n",
    "        i += 1\n",
    "    array = torch.from_numpy(array)\n",
    "    return array"
   ]
  },
  {
   "cell_type": "code",
   "execution_count": 5,
   "id": "4311363e-b224-4631-a3a7-44e30803a9f3",
   "metadata": {},
   "outputs": [
    {
     "name": "stdout",
     "output_type": "stream",
     "text": [
      "x_train_neg_tensor torch.Size([43390, 2048]) y_train_neg_tensor torch.Size([43390]) \n",
      "x_train_pos_tensor torch.Size([10208, 2048]) y_train_pos_tensor torch.Size([10208])\n",
      "x_train torch.Size([53598, 2048]) y_train torch.Size([53598])\n"
     ]
    }
   ],
   "source": [
    "## Train\n",
    "train_neg_path = r\"C:\\Users\\Dileemre\\Desktop\\jupyter\\DATAAITEAM\\LSIFIR\\Classification\\Train\\neg\"\n",
    "num_train_neg_img = 43390\n",
    "x_train_neg_tensor = read_images(train_neg_path, num_train_neg_img)\n",
    "y_train_neg_tensor = torch.zeros(num_train_neg_img, dtype = torch.long)\n",
    "\n",
    "train_pos_path = r\"C:\\Users\\Dileemre\\Desktop\\jupyter\\DATAAITEAM\\LSIFIR\\Classification\\Train\\pos\"\n",
    "num_train_pos_img = 10208\n",
    "x_train_pos_tensor = read_images(train_pos_path, num_train_pos_img)\n",
    "y_train_pos_tensor = torch.ones(num_train_pos_img, dtype = torch.long)\n",
    "\n",
    "print(\"x_train_neg_tensor\", x_train_neg_tensor.size(), \"y_train_neg_tensor\", y_train_neg_tensor.size(), \"\\n\"\n",
    "      \"x_train_pos_tensor\", x_train_pos_tensor.size(), \"y_train_pos_tensor\", y_train_pos_tensor.size())\n",
    "\n",
    "## Concat train\n",
    "x_train = torch.cat((x_train_neg_tensor, x_train_pos_tensor), 0)\n",
    "y_train = torch.cat((y_train_neg_tensor, y_train_pos_tensor), 0)\n",
    "\n",
    "print(\"x_train\", x_train.size(), \"y_train\", y_train.size())"
   ]
  },
  {
   "cell_type": "code",
   "execution_count": 6,
   "id": "a9c7cb19-9333-49a2-8554-d4d1d6d8aa05",
   "metadata": {},
   "outputs": [
    {
     "name": "stdout",
     "output_type": "stream",
     "text": [
      "x_test_neg_tensor torch.Size([22050, 2048]) y_test_neg_tensor torch.Size([22050]) \n",
      "x_test_pos_tensor torch.Size([5944, 2048]) y_test_pos_tensor torch.Size([5944])\n",
      "x_test torch.Size([27994, 2048]) y_test torch.Size([27994])\n"
     ]
    }
   ],
   "source": [
    "## Test\n",
    "test_neg_path = r\"C:\\Users\\Dileemre\\Desktop\\jupyter\\DATAAITEAM\\LSIFIR\\Classification\\Test\\neg\"\n",
    "num_test_neg_img = 22050\n",
    "x_test_neg_tensor = read_images(test_neg_path, num_test_neg_img)\n",
    "y_test_neg_tensor = torch.zeros(num_test_neg_img, dtype = torch.long)\n",
    "\n",
    "test_pos_path = r\"C:\\Users\\Dileemre\\Desktop\\jupyter\\DATAAITEAM\\LSIFIR\\Classification\\Test\\pos\"\n",
    "num_test_pos_img = 5944\n",
    "x_test_pos_tensor = read_images(test_pos_path, num_test_pos_img)\n",
    "y_test_pos_tensor = torch.ones(num_test_pos_img, dtype = torch.long)\n",
    "\n",
    "print(\"x_test_neg_tensor\", x_test_neg_tensor.size(), \"y_test_neg_tensor\", y_test_neg_tensor.size(), \"\\n\"\n",
    "      \"x_test_pos_tensor\", x_test_pos_tensor.size(), \"y_test_pos_tensor\", y_test_pos_tensor.size())\n",
    "\n",
    "## Concat test\n",
    "x_test = torch.cat((x_test_neg_tensor, x_test_pos_tensor), 0)\n",
    "y_test = torch.cat((y_test_neg_tensor, y_test_pos_tensor), 0)\n",
    "\n",
    "print(\"x_test\", x_test.size(), \"y_test\", y_test.size())"
   ]
  },
  {
   "cell_type": "code",
   "execution_count": null,
   "id": "bf9a4c0b-cc6a-4712-add5-8dcf07e395cf",
   "metadata": {
    "tags": []
   },
   "outputs": [],
   "source": [
    "## visualize\n",
    "plt.imshow(x_train[45001, :].reshape(64, 32), cmap = \"gray\")"
   ]
  },
  {
   "cell_type": "code",
   "execution_count": null,
   "id": "31e35056-7599-45fe-ab57-37e2f6bc476b",
   "metadata": {
    "tags": []
   },
   "outputs": [],
   "source": [
    "## CNN\n",
    "\n",
    "## Hyperparameter\n",
    "num_epochs = 100\n",
    "num_classes = 2\n",
    "batch_size = 32\n",
    "learning_rate = 0.0001\n",
    "\n",
    "train = torch.utils.data.TensorDataset(x_train, y_train)\n",
    "trainloader = torch.utils.data.DataLoader(train, batc_size = batch_size, shuffle = True)\n",
    "\n",
    "test = torch.utils.data.TensorDataset(x_test, y_test)\n",
    "testloader = torch.utils.data.DataLoader(test, batc_size = batch_size, shuffle = False)"
   ]
  },
  {
   "cell_type": "code",
   "execution_count": null,
   "id": "ea6ae038-5beb-4660-a4e2-ef9bf5b87db2",
   "metadata": {},
   "outputs": [],
   "source": [
    "class Net(nn.Module):\n",
    "    def __init__(self):\n",
    "        super(Net, self).__init__()\n",
    "        \n",
    "        self.conv1 = nn.Conv2d(1, 10, 5)\n",
    "        self.pool = nn.MaxPool2d(2,2)\n",
    "        self.conv2 = nn.Conv2d(10, 16, 5)\n",
    "        self.fc1 = nn.Linear(16*13*5, 520)\n",
    "        self.fc2 = nn.Linear(520, 130)\n",
    "        self.fc3 = nn.Linear(130, num_classes)\n",
    "        \n",
    "    def forward(self, x):\n",
    "        x = self.pool(F.relu(self.conv1(x)))\n",
    "        x = self.pool(F.relu(self.conv2(x)))\n",
    "        x = x.view(-1, 16*13*5)\n",
    "        x = F.relu(self.fc1(x))\n",
    "        x = F.relu(self.fc2(x))\n",
    "        x = self.fc3(x)"
   ]
  },
  {
   "cell_type": "code",
   "execution_count": null,
   "id": "2bb10146-89d0-44c9-80f3-b0267ae836f7",
   "metadata": {},
   "outputs": [],
   "source": [
    "net = Net()\n",
    "## net = Net().to(device)\n",
    "\n",
    "criterion = nn.CrossEntropyLoss()\n",
    "\n",
    "import torch.optim as optim\n",
    "optimizer = optim.SGD(net.parameters(), lr = learning_rate, momentum = 0.8)"
   ]
  },
  {
   "cell_type": "code",
   "execution_count": null,
   "id": "11c6d582-5bbc-4bb9-bfb6-2a5299ec043f",
   "metadata": {},
   "outputs": [],
   "source": [
    "start = time.time()\n",
    "\n",
    "train_acc = []\n",
    "test_acc = []\n",
    "loss = []\n",
    "\n",
    "use_gpu = False\n",
    "\n",
    "for epoch in range(num_epochs):\n",
    "    for i, data in enumerate(trainloader, 0):\n",
    "        inputs, labels = data \n",
    "        inputs = input.view(batch_size, 1, 64, 32)\n",
    "        inputs = inputs.float()\n",
    "        \n",
    "        if use_gpu:\n",
    "            if torch.cuda.is_available():\n",
    "                inputs, labels = inputs.to(device), labels.to(device)\n",
    "       \n",
    "        #zero gradient\n",
    "        optimizer.zero_grad()\n",
    "        \n",
    "        #forward\n",
    "        outputs = net(inputs)\n",
    "        \n",
    "        #loss\n",
    "        loss = criterion(outputs, labels)\n",
    "        \n",
    "        #back\n",
    "        loss.backward()\n",
    "        \n",
    "        #update weights\n",
    "        optimizer.step()\n",
    "        \n",
    "    #test\n",
    "    correct = 0\n",
    "    total = 0\n",
    "    with torch.no_grad():\n",
    "        for data in testloader:\n",
    "            images, labels = data\n",
    "            images.view(batch_size, 1, 64, 32)\n",
    "            images = images.float()\n",
    "            \n",
    "            if use_gpu:\n",
    "                if torch.cuda.is_available():\n",
    "                    images, labels = images.to(device), labels.to(device)\n",
    "           \n",
    "            outputs = net(images)\n",
    "            _, predicted = torch.max(outputs.data, 1)\n",
    "            total += labels.size(0)\n",
    "            correct += (predicted == labels).sum().item()\n",
    "    \n",
    "    acc1 = 100*correct/total\n",
    "    print(\"accuracy test: \", acc1)\n",
    "    test_acc.append(acc1)\n",
    "    \n",
    "    #train\n",
    "    correct = 0\n",
    "    total = 0\n",
    "    with torch.no_grad():\n",
    "        for data in dataloader:\n",
    "            images, labels = data\n",
    "            images.view(batch_size, 1, 64, 32)\n",
    "            images = images.float()\n",
    "            \n",
    "            if use_gpu:\n",
    "                if torch.cuda.is_available():\n",
    "                    images, labels = images.to(devices), labels.to(devices)\n",
    "            \n",
    "            outputs = net(images)\n",
    "            _, predicted = torch.max(outputs.data, 1)\n",
    "            total += labels.size(0)\n",
    "            correct += (predicted == labels).sum().item()\n",
    "            \n",
    "        acc2 = 100*correct/total\n",
    "        print(\"accuracy train: \", acc2)\n",
    "        train_acc.append(acc2)\n",
    "        \n",
    "print(\"Train is done.\")\n",
    "            \n",
    "end = time.time()\n",
    "process_time = (end - start)/60\n",
    "print(\"Process Time: \", process_time)"
   ]
  },
  {
   "cell_type": "code",
   "execution_count": null,
   "id": "d3ecdf83-e32b-46a0-bfaa-8ad717f53ce8",
   "metadata": {},
   "outputs": [],
   "source": [
    "## RezNet\n",
    "\n",
    "def conv3x3(in_planes, out_planes, stride = 1):\n",
    "    \n",
    "    "
   ]
  }
 ],
 "metadata": {
  "kernelspec": {
   "display_name": "Python 3 (ipykernel)",
   "language": "python",
   "name": "python3"
  },
  "language_info": {
   "codemirror_mode": {
    "name": "ipython",
    "version": 3
   },
   "file_extension": ".py",
   "mimetype": "text/x-python",
   "name": "python",
   "nbconvert_exporter": "python",
   "pygments_lexer": "ipython3",
   "version": "3.8.5"
  },
  "toc-autonumbering": false,
  "toc-showcode": false,
  "widgets": {
   "application/vnd.jupyter.widget-state+json": {
    "state": {},
    "version_major": 2,
    "version_minor": 0
   }
  }
 },
 "nbformat": 4,
 "nbformat_minor": 5
}
