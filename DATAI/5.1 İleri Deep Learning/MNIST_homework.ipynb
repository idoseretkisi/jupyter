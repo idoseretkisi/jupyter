{
 "cells": [
  {
   "cell_type": "code",
   "execution_count": 1,
   "id": "d440bd50-564b-475b-9f7d-5f76dbc20706",
   "metadata": {},
   "outputs": [],
   "source": [
    "from keras.datasets import mnist\n",
    "from keras.models import Sequential\n",
    "from keras.layers import Dense, Activation, Conv2D, MaxPooling2D, Flatten, Dropout, BatchNormalization\n",
    "from keras.utils import to_categorical\n",
    "import pandas as pd\n",
    "import numpy as np\n",
    "import matplotlib.pyplot as plt\n",
    "import warnings\n",
    "warnings.filterwarnings(\"ignore\")"
   ]
  },
  {
   "cell_type": "code",
   "execution_count": 7,
   "id": "4c13f870-6bb2-4700-aa2d-64b88a9278bb",
   "metadata": {},
   "outputs": [],
   "source": [
    "(x_train, y_train), (x_test, y_test) = mnist.load_data()"
   ]
  },
  {
   "cell_type": "code",
   "execution_count": 8,
   "id": "a0a395b6-bd90-49ff-9e27-e91cf69f7309",
   "metadata": {},
   "outputs": [],
   "source": [
    "x_train = x_train.reshape(-1, 28, 28, 1)/255.0\n",
    "y_train = y_train.astype(np.int32)\n",
    "y_train = to_categorical(y_train, num_classes=len(set(y_train)))\n",
    "\n",
    "x_test = x_test.reshape(-1, 28, 28, 1)/255.0\n",
    "y_test = y_test.astype(np.int32)\n",
    "y_test = to_categorical(y_test, num_classes=len(set(y_test)))"
   ]
  },
  {
   "cell_type": "code",
   "execution_count": 14,
   "id": "a3298704-a422-42ac-8ce5-1a5b4bc72ab2",
   "metadata": {},
   "outputs": [
    {
     "name": "stderr",
     "output_type": "stream",
     "text": [
      "No handles with labels found to put in legend.\n"
     ]
    },
    {
     "data": {
      "image/png": "[encoded data removed]",
      "text/plain": [
       "<Figure size 432x288 with 1 Axes>"
      ]
     },
     "metadata": {
      "needs_background": "light"
     },
     "output_type": "display_data"
    },
    {
     "name": "stdout",
     "output_type": "stream",
     "text": [
      "1\n"
     ]
    }
   ],
   "source": [
    "index = 3\n",
    "vis = x_train.reshape(60000, 28, 28)\n",
    "plt.imshow(vis[index,:,:])\n",
    "plt.legend()\n",
    "plt.axis(\"off\")\n",
    "plt.show()\n",
    "print(np.argmax(y_train[index]))"
   ]
  },
  {
   "cell_type": "code",
   "execution_count": 16,
   "id": "2ea23a2e-a721-423d-a517-679338c58f6f",
   "metadata": {},
   "outputs": [],
   "source": [
    "numberOfClass = y_train.shape[1]\n",
    "\n",
    "model = Sequential()\n",
    "\n",
    "model.add(Conv2D(input_shape = (28, 28, 1), filters = 16, kernel_size = (3,3)))\n",
    "model.add(BatchNormalization())\n",
    "model.add(Activation(\"relu\"))\n",
    "model.add(MaxPooling2D())\n",
    "\n",
    "model.add(Conv2D(filters = 64, kernel_size = (3, 3)))\n",
    "model.add(BatchNormalization())\n",
    "model.add(Activation(\"relu\"))\n",
    "model.add(MaxPooling2D())\n",
    "\n",
    "model.add(Conv2D(filters=128, kernel_size = (3,3)))\n",
    "model.add(BatchNormalization())\n",
    "model.add(Activation(\"relu\"))\n",
    "model.add(MaxPooling2D())\n",
    "\n",
    "model.add(Flatten())\n",
    "model.add(Dense(units = 256))\n",
    "model.add(Activation(\"relu\"))\n",
    "model.add(Dropout(0.2))\n",
    "model.add(Dense(units = numberOfClass))\n",
    "model.add(Activation(\"softmax\"))\n",
    "\n",
    "model.compile(loss = \"categorical_crossentropy\",\n",
    "             optimizer = \"adam\",\n",
    "             metrics = [\"accuracy\"])"
   ]
  },
  {
   "cell_type": "code",
   "execution_count": 17,
   "id": "751d1221-5573-4e6d-8705-c5b7705635b0",
   "metadata": {},
   "outputs": [
    {
     "name": "stdout",
     "output_type": "stream",
     "text": [
      "Epoch 1/25\n",
      "15/15 [==============================] - 47s 3s/step - loss: 1.0089 - accuracy: 0.7021 - val_loss: 2.0027 - val_accuracy: 0.7285\n",
      "Epoch 2/25\n",
      "15/15 [==============================] - 46s 3s/step - loss: 0.2559 - accuracy: 0.9248 - val_loss: 2.1221 - val_accuracy: 0.1135\n",
      "Epoch 3/25\n",
      "15/15 [==============================] - 45s 3s/step - loss: 0.1497 - accuracy: 0.9553 - val_loss: 2.4347 - val_accuracy: 0.1135\n",
      "Epoch 4/25\n",
      "15/15 [==============================] - 45s 3s/step - loss: 0.1067 - accuracy: 0.9674 - val_loss: 2.7396 - val_accuracy: 0.1135\n",
      "Epoch 5/25\n",
      "15/15 [==============================] - 48s 3s/step - loss: 0.0840 - accuracy: 0.9747 - val_loss: 3.0620 - val_accuracy: 0.1135\n",
      "Epoch 6/25\n",
      "15/15 [==============================] - 52s 3s/step - loss: 0.0688 - accuracy: 0.9799 - val_loss: 3.3460 - val_accuracy: 0.1135\n",
      "Epoch 7/25\n",
      "15/15 [==============================] - 45s 3s/step - loss: 0.0607 - accuracy: 0.9821 - val_loss: 3.6402 - val_accuracy: 0.1135\n",
      "Epoch 8/25\n",
      "15/15 [==============================] - 45s 3s/step - loss: 0.0512 - accuracy: 0.9849 - val_loss: 3.9114 - val_accuracy: 0.1135\n",
      "Epoch 9/25\n",
      "15/15 [==============================] - 46s 3s/step - loss: 0.0447 - accuracy: 0.9870 - val_loss: 4.2145 - val_accuracy: 0.1135\n",
      "Epoch 10/25\n",
      "15/15 [==============================] - 45s 3s/step - loss: 0.0382 - accuracy: 0.9887 - val_loss: 4.4532 - val_accuracy: 0.1135\n",
      "Epoch 11/25\n",
      "15/15 [==============================] - 52s 3s/step - loss: 0.0342 - accuracy: 0.9901 - val_loss: 4.6186 - val_accuracy: 0.1135\n",
      "Epoch 12/25\n",
      "15/15 [==============================] - 73s 5s/step - loss: 0.0297 - accuracy: 0.9915 - val_loss: 4.7502 - val_accuracy: 0.1135\n",
      "Epoch 13/25\n",
      "15/15 [==============================] - 67s 4s/step - loss: 0.0262 - accuracy: 0.9924 - val_loss: 4.9397 - val_accuracy: 0.1135\n",
      "Epoch 14/25\n",
      "15/15 [==============================] - 73s 5s/step - loss: 0.0235 - accuracy: 0.9936 - val_loss: 5.0059 - val_accuracy: 0.1135\n",
      "Epoch 15/25\n",
      "15/15 [==============================] - 62s 4s/step - loss: 0.0202 - accuracy: 0.9948 - val_loss: 5.1680 - val_accuracy: 0.1135\n",
      "Epoch 16/25\n",
      "15/15 [==============================] - 60s 4s/step - loss: 0.0175 - accuracy: 0.9954 - val_loss: 5.0606 - val_accuracy: 0.1135\n",
      "Epoch 17/25\n",
      "15/15 [==============================] - 73s 5s/step - loss: 0.0165 - accuracy: 0.9958 - val_loss: 4.9267 - val_accuracy: 0.1135\n",
      "Epoch 18/25\n",
      "15/15 [==============================] - 64s 4s/step - loss: 0.0144 - accuracy: 0.9964 - val_loss: 4.7693 - val_accuracy: 0.1135\n",
      "Epoch 19/25\n",
      "15/15 [==============================] - 54s 4s/step - loss: 0.0126 - accuracy: 0.9973 - val_loss: 4.7026 - val_accuracy: 0.1136\n",
      "Epoch 20/25\n",
      "15/15 [==============================] - 58s 4s/step - loss: 0.0110 - accuracy: 0.9975 - val_loss: 4.4595 - val_accuracy: 0.1157\n",
      "Epoch 21/25\n",
      "15/15 [==============================] - 52s 3s/step - loss: 0.0094 - accuracy: 0.9981 - val_loss: 3.9730 - val_accuracy: 0.1240\n",
      "Epoch 22/25\n",
      "15/15 [==============================] - 57s 4s/step - loss: 0.0080 - accuracy: 0.9987 - val_loss: 3.5514 - val_accuracy: 0.1484\n",
      "Epoch 23/25\n",
      "15/15 [==============================] - 57s 4s/step - loss: 0.0071 - accuracy: 0.9987 - val_loss: 3.2637 - val_accuracy: 0.1765\n",
      "Epoch 24/25\n",
      "15/15 [==============================] - 57s 4s/step - loss: 0.0066 - accuracy: 0.9991 - val_loss: 2.3365 - val_accuracy: 0.3276\n",
      "Epoch 25/25\n",
      "15/15 [==============================] - 56s 4s/step - loss: 0.0059 - accuracy: 0.9992 - val_loss: 2.2663 - val_accuracy: 0.3698\n"
     ]
    }
   ],
   "source": [
    "hist = model.fit(x_train, y_train, validation_data =(x_test, y_test), epochs = 25, batch_size = 4000)"
   ]
  },
  {
   "cell_type": "code",
   "execution_count": 18,
   "id": "6ad2771c-7f51-454f-b3fb-502e88d8f7d3",
   "metadata": {},
   "outputs": [],
   "source": [
    "model.save_weights(\"cnn_mist_model.h5\")"
   ]
  },
  {
   "cell_type": "code",
   "execution_count": 21,
   "id": "09784c54-3374-4d00-b6d8-4f4306ee09e8",
   "metadata": {},
   "outputs": [
    {
     "name": "stdout",
     "output_type": "stream",
     "text": [
      "dict_keys(['loss', 'accuracy', 'val_loss', 'val_accuracy'])\n"
     ]
    },
    {
     "data": {
      "image/png": "[encoded data removed]",
      "text/plain": [
       "<Figure size 432x288 with 1 Axes>"
      ]
     },
     "metadata": {
      "needs_background": "light"
     },
     "output_type": "display_data"
    },
    {
     "data": {
      "image/png": "[encoded data removed]",
      "text/plain": [
       "<Figure size 432x288 with 1 Axes>"
      ]
     },
     "metadata": {
      "needs_background": "light"
     },
     "output_type": "display_data"
    }
   ],
   "source": [
    "print(hist.history.keys())\n",
    "plt.plot(hist.history[\"loss\"], label = \"Train Loss\")\n",
    "plt.plot(hist.history[\"val_loss\"], label = \"Validation Loss\")\n",
    "plt.legend()\n",
    "plt.show()\n",
    "plt.figure()\n",
    "plt.plot(hist.history[\"accuracy\"], label = \"Train Accuracy\")\n",
    "plt.plot(hist.history[\"val_accuracy\"], label = \"Validation Accuracy\")\n",
    "plt.legend()\n",
    "plt.show()"
   ]
  },
  {
   "cell_type": "code",
   "execution_count": 22,
   "id": "8ba24f39-4962-4ded-b3fd-f225f63662dd",
   "metadata": {},
   "outputs": [],
   "source": [
    "import json\n",
    "with open(\"cnn_mist_hist.json\", \"w\") as f:\n",
    "    json.dump(hist.history, f)"
   ]
  },
  {
   "cell_type": "code",
   "execution_count": 25,
   "id": "6471b83c-8e26-4685-a10e-529232f5c717",
   "metadata": {},
   "outputs": [
    {
     "data": {
      "image/png": "[encoded data removed]",
      "text/plain": [
       "<Figure size 432x288 with 1 Axes>"
      ]
     },
     "metadata": {
      "needs_background": "light"
     },
     "output_type": "display_data"
    },
    {
     "data": {
      "image/png": "[encoded data removed]",
      "text/plain": [
       "<Figure size 432x288 with 1 Axes>"
      ]
     },
     "metadata": {
      "needs_background": "light"
     },
     "output_type": "display_data"
    }
   ],
   "source": [
    "import codecs\n",
    "with codecs.open(\"cnn_mist_hist.json\", \"r\", encoding = \"utf-8\") as f:\n",
    "    h = json.loads(f.read())\n",
    "    \n",
    "plt.figure()\n",
    "plt.plot(h[\"loss\"], label = \"Train Loss\")\n",
    "plt.plot(h[\"val_loss\"], label = \"Validation Loss\")\n",
    "plt.legend()\n",
    "plt.show()\n",
    "plt.figure()\n",
    "plt.plot(h[\"accuracy\"], label = \"Train Accuracy\")\n",
    "plt.plot(h[\"val_accuracy\"], label = \"Validation Accuracy\")\n",
    "plt.legend()\n",
    "plt.show()"
   ]
  },
  {
   "cell_type": "code",
   "execution_count": null,
   "id": "885236b9-db4f-4c39-adde-42baeb99a0ba",
   "metadata": {},
   "outputs": [],
   "source": []
  }
 ],
 "metadata": {
  "kernelspec": {
   "display_name": "Python 3 (ipykernel)",
   "language": "python",
   "name": "python3"
  },
  "language_info": {
   "codemirror_mode": {
    "name": "ipython",
    "version": 3
   },
   "file_extension": ".py",
   "mimetype": "text/x-python",
   "name": "python",
   "nbconvert_exporter": "python",
   "pygments_lexer": "ipython3",
   "version": "3.9.7"
  },
  "toc-autonumbering": false,
  "toc-showcode": false,
  "toc-showmarkdowntxt": false
 },
 "nbformat": 4,
 "nbformat_minor": 5
}
