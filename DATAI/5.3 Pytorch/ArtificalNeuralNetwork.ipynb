{
 "cells": [
  {
   "cell_type": "code",
   "execution_count": 3,
   "id": "5cdf93e5",
   "metadata": {},
   "outputs": [],
   "source": [
    "import torch\n",
    "import torch.nn as nn\n",
    "from torch.autograd import Variable\n",
    "from torch.utils.data import DataLoader\n",
    "import pandas as pd\n",
    "from sklearn.model_selection import train_test_split\n",
    "import matplotlib.pyplot as plt"
   ]
  },
  {
   "cell_type": "code",
   "execution_count": 4,
   "id": "51047da5",
   "metadata": {},
   "outputs": [],
   "source": [
    "train = pd.read_csv(r\"C:/Users/Dileemre/Desktop/jupyter/DATAAITEAM/train.csv\")\n",
    "\n",
    "targets_np = train.label.values\n",
    "features_np = train.loc[:,train.columns != \"label\"].values/255\n",
    "\n",
    "features_train, features_test, targets_train, targets_test = train_test_split(features_np,\n",
    "                                                                             targets_np,\n",
    "                                                                             test_size = 0.2,\n",
    "                                                                             random_state = 42)\n",
    "\n",
    "x_train = torch.from_numpy(features_train)\n",
    "y_train = torch.from_numpy(targets_train).type(torch.LongTensor)\n",
    "\n",
    "x_test = torch.from_numpy(features_test)\n",
    "y_test = torch.from_numpy(targets_test).type(torch.LongTensor)\n",
    "\n",
    "batch_size = 100\n",
    "n_iters = 10000\n",
    "num_epochs = n_iters / (len(features_train) / batch_size)\n",
    "num_epochs = int(num_epochs)\n",
    "\n",
    "train = torch.utils.data.TensorDataset(x_train, y_train)\n",
    "test = torch.utils.data.TensorDataset(x_test, y_test)\n",
    "\n",
    "train_loader = DataLoader(train, batch_size = batch_size, shuffle = False)\n",
    "test_loader = DataLoader(test, batch_size = batch_size, shuffle = False)"
   ]
  },
  {
   "cell_type": "code",
   "execution_count": 22,
   "id": "9bb71c9f",
   "metadata": {},
   "outputs": [],
   "source": [
    "class ANNModel(nn.Module):\n",
    "    def __init__(self, input_dim, hidden_dim, output_dim):\n",
    "        super(ANNModel, self).__init__()\n",
    "        \n",
    "        #Linear function 1: 784 --> 150\n",
    "        self.fc1 = nn.Linear(input_dim, hidden_dim)\n",
    "        #Non-linearity 1\n",
    "        self.relu1 = nn.ReLU()\n",
    "        \n",
    "        #Linear function 2: 150 --> 150\n",
    "        self.fc2 = nn.Linear(hidden_dim, hidden_dim)\n",
    "        #Non-linearity 2\n",
    "        self.tanh2 = nn.Tanh()\n",
    "        \n",
    "        #Linear function 3: 150 --> 150\n",
    "        self.fc3 = nn.Linear(hidden_dim, hidden_dim)\n",
    "        #Non-linearity 3\n",
    "        self.elu3 = nn.ELU()\n",
    "        \n",
    "        #Linear function 4: 150 --> 150\n",
    "        self.fc4 = nn.Linear(hidden_dim, output_dim)\n",
    "        \n",
    "    def forward(self, x):\n",
    "        out = self.fc1(x)\n",
    "        out = self.relu1(out)\n",
    "\n",
    "        out = self.fc2(out)\n",
    "        out = self.tanh2(out)\n",
    "\n",
    "        out = self.fc3(out)\n",
    "        out = self.elu3(out)\n",
    "\n",
    "        out = self.fc4(out)\n",
    "        return out"
   ]
  },
  {
   "cell_type": "code",
   "execution_count": 27,
   "id": "22595958",
   "metadata": {},
   "outputs": [],
   "source": [
    "input_dim = 28*28\n",
    "hidden_dim = 150\n",
    "output_dim = 10\n",
    "\n",
    "model = ANNModel(input_dim, hidden_dim, output_dim)\n",
    "\n",
    "error = nn.CrossEntropyLoss()\n",
    "\n",
    "learning_rate = 0.02\n",
    "optimizer = torch.optim.SGD(model.parameters(), lr = learning_rate)"
   ]
  },
  {
   "cell_type": "code",
   "execution_count": 28,
   "id": "98b96d96",
   "metadata": {},
   "outputs": [
    {
     "name": "stdout",
     "output_type": "stream",
     "text": [
      "Iteration: 500 Loss: 0.7711266875267029 Acc 80.60713958740234%\n",
      "Iteration: 1000 Loss: 0.44053417444229126 Acc 87.98809814453125%\n",
      "Iteration: 1500 Loss: 0.22609205543994904 Acc 89.75%\n",
      "Iteration: 2000 Loss: 0.2981734871864319 Acc 90.75%\n",
      "Iteration: 2500 Loss: 0.3087805211544037 Acc 92.08333587646484%\n",
      "Iteration: 3000 Loss: 0.11589017510414124 Acc 92.82142639160156%\n",
      "Iteration: 3500 Loss: 0.2433844804763794 Acc 93.55952453613281%\n",
      "Iteration: 4000 Loss: 0.0644514337182045 Acc 94.0%\n",
      "Iteration: 4500 Loss: 0.31151440739631653 Acc 94.51190185546875%\n",
      "Iteration: 5000 Loss: 0.09208793938159943 Acc 94.79762268066406%\n",
      "Iteration: 5500 Loss: 0.1876504123210907 Acc 94.82142639160156%\n",
      "Iteration: 6000 Loss: 0.1984429806470871 Acc 95.16666412353516%\n",
      "Iteration: 6500 Loss: 0.09840219467878342 Acc 95.51190185546875%\n",
      "Iteration: 7000 Loss: 0.1106371283531189 Acc 95.85713958740234%\n",
      "Iteration: 7500 Loss: 0.13792917132377625 Acc 95.8452377319336%\n",
      "Iteration: 8000 Loss: 0.17257045209407806 Acc 95.89286041259766%\n",
      "Iteration: 8500 Loss: 0.06110904738306999 Acc 96.07142639160156%\n",
      "Iteration: 9000 Loss: 0.0389048308134079 Acc 96.27381134033203%\n",
      "Iteration: 9500 Loss: 0.02098194509744644 Acc 96.22618865966797%\n"
     ]
    }
   ],
   "source": [
    "count = 0\n",
    "loss_list = []\n",
    "iteration_list = []\n",
    "accuracy_list = []\n",
    "\n",
    "for epoch in range(num_epochs):\n",
    "    for i, (images, labels) in enumerate(train_loader):\n",
    "        train = Variable(images.view(-1, 28*28)).float()\n",
    "        labels = Variable(labels)\n",
    "        \n",
    "        optimizer.zero_grad()\n",
    "        outputs = model(train)\n",
    "        loss = error(outputs, labels)\n",
    "        loss.backward()\n",
    "        optimizer.step()\n",
    "        \n",
    "        count += 1\n",
    "        if count % 50 == 0:\n",
    "            correct = 0\n",
    "            total = 0\n",
    "            \n",
    "            for images, labels in test_loader:\n",
    "                test = Variable(images.view(-1, 28*28)).float()\n",
    "                outputs = model(test)\n",
    "                predicted = model(test)\n",
    "                predicted = torch.max(outputs.data, 1)[1]\n",
    "                total += len(labels)\n",
    "                correct += (predicted == labels).sum()\n",
    "                \n",
    "            accuracy = 100 * correct / float(total)\n",
    "            \n",
    "            loss_list.append(loss.data)\n",
    "            iteration_list.append(count)\n",
    "            accuracy_list.append(accuracy)\n",
    "            \n",
    "            if count % 500 == 0:\n",
    "                print(\"Iteration: {} Loss: {} Acc {}%\".format(count, loss.data, accuracy))"
   ]
  },
  {
   "cell_type": "code",
   "execution_count": 29,
   "id": "dfee774e",
   "metadata": {},
   "outputs": [
    {
     "data": {
      "image/png": "[encoded data removed]",
      "text/plain": [
       "<Figure size 432x288 with 1 Axes>"
      ]
     },
     "metadata": {
      "needs_background": "light"
     },
     "output_type": "display_data"
    },
    {
     "data": {
      "image/png": "[encoded data removed]",
      "text/plain": [
       "<Figure size 432x288 with 1 Axes>"
      ]
     },
     "metadata": {
      "needs_background": "light"
     },
     "output_type": "display_data"
    }
   ],
   "source": [
    "plt.plot(iteration_list, loss_list)\n",
    "plt.xlabel(\"Number of Iteration\")\n",
    "plt.ylabel(\"Loss\")\n",
    "plt.title(\"ANN: Loss vs Iter\")\n",
    "plt.show()\n",
    "\n",
    "plt.plot(iteration_list, accuracy_list, color = \"red\")\n",
    "plt.xlabel(\"Number of Iteration\")\n",
    "plt.ylabel(\"Acc\")\n",
    "plt.title(\"ANN: Acc vs Iter\")\n",
    "plt.show()"
   ]
  },
  {
   "cell_type": "code",
   "execution_count": null,
   "id": "7b832552",
   "metadata": {},
   "outputs": [],
   "source": []
  }
 ],
 "metadata": {
  "kernelspec": {
   "display_name": "Python 3 (ipykernel)",
   "language": "python",
   "name": "python3"
  },
  "language_info": {
   "codemirror_mode": {
    "name": "ipython",
    "version": 3
   },
   "file_extension": ".py",
   "mimetype": "text/x-python",
   "name": "python",
   "nbconvert_exporter": "python",
   "pygments_lexer": "ipython3",
   "version": "3.8.12"
  }
 },
 "nbformat": 4,
 "nbformat_minor": 5
}
