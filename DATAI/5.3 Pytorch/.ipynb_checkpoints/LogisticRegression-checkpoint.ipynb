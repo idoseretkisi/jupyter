{
 "cells": [
  {
   "cell_type": "code",
   "execution_count": 1,
   "id": "32cc1e18",
   "metadata": {},
   "outputs": [],
   "source": [
    "import torch\n",
    "import torch.nn as nn\n",
    "from torch.autograd import Variable\n",
    "from torch.utils.data import DataLoader\n",
    "import pandas as pd\n",
    "from sklearn.model_selection import train_test_split\n",
    "import matplotlib.pyplot as plt"
   ]
  },
  {
   "cell_type": "code",
   "execution_count": 2,
   "id": "b1c2044a",
   "metadata": {},
   "outputs": [],
   "source": [
    "train = pd.read_csv(r\"C:/Users/Dileemre/Desktop/jupyter/DATAAITEAM/train.csv\")\n",
    "\n",
    "targets_np = train.label.values\n",
    "features_np = train.loc[:,train.columns != \"label\"].values/255\n",
    "\n",
    "features_train, features_test, targets_train, targets_test = train_test_split(features_np,\n",
    "                                                                             targets_np,\n",
    "                                                                             test_size = 0.2,\n",
    "                                                                             random_state = 42)\n",
    "\n",
    "x_train = torch.from_numpy(features_train)\n",
    "y_train = torch.from_numpy(targets_train).type(torch.LongTensor)\n",
    "\n",
    "x_test = torch.from_numpy(features_test)\n",
    "y_test = torch.from_numpy(targets_test).type(torch.LongTensor)\n",
    "\n",
    "batch_size = 100\n",
    "n_iters = 10000\n",
    "num_epochs = n_iters / (len(features_train) / batch_size)\n",
    "num_epochs = int(num_epochs)\n",
    "\n",
    "train = torch.utils.data.TensorDataset(x_train, y_train)\n",
    "test = torch.utils.data.TensorDataset(x_test, y_test)\n",
    "\n",
    "train_loader = DataLoader(train, batch_size = batch_size, shuffle = False)\n",
    "test_loader = DataLoader(test, batch_size = batch_size, shuffle = False)"
   ]
  },
  {
   "cell_type": "code",
   "execution_count": 3,
   "id": "b1fa2e11",
   "metadata": {},
   "outputs": [
    {
     "data": {
      "image/png": "[encoded data removed]",
      "text/plain": [
       "<Figure size 432x288 with 1 Axes>"
      ]
     },
     "metadata": {
      "needs_background": "light"
     },
     "output_type": "display_data"
    }
   ],
   "source": [
    "plt.imshow(features_np[10].reshape(28, 28))\n",
    "plt.axis(\"off\")\n",
    "plt.title(str(targets_np[10]))\n",
    "plt.savefig(\"graph.png\")\n",
    "plt.show()"
   ]
  },
  {
   "cell_type": "code",
   "execution_count": 7,
   "id": "1fad87f3",
   "metadata": {},
   "outputs": [],
   "source": [
    "class LogisticRegressionModel(nn.Module):\n",
    "    def __init__(self, input_dim, output_dim):\n",
    "        super(LogisticRegressionModel, self).__init__()\n",
    "        self.lineer = nn.Linear(input_dim, output_dim)\n",
    "        \n",
    "    def forward(self, x):\n",
    "        out = self.lineer(x)\n",
    "        return out"
   ]
  },
  {
   "cell_type": "code",
   "execution_count": 8,
   "id": "35ab4baa",
   "metadata": {},
   "outputs": [],
   "source": [
    "input_dim = 28*28\n",
    "output_dim = 10\n",
    "\n",
    "model = LogisticRegressionModel(input_dim, output_dim)\n",
    "error = nn.CrossEntropyLoss()\n",
    "learning_rate = 0.001\n",
    "optimizer = torch.optim.SGD(model.parameters(), lr=learning_rate)"
   ]
  },
  {
   "cell_type": "code",
   "execution_count": 9,
   "id": "825b9b12",
   "metadata": {
    "scrolled": true
   },
   "outputs": [
    {
     "name": "stdout",
     "output_type": "stream",
     "text": [
      "Iteration: 500, Loss: 1.8586002588272095, Accuracy: 0.8095238208770752%\n",
      "Iteration: 1000, Loss: 1.6042840480804443, Accuracy: 0.8452380895614624%\n",
      "Iteration: 1500, Loss: 1.2794828414916992, Accuracy: 0.8809523582458496%\n",
      "Iteration: 2000, Loss: 1.1876951456069946, Accuracy: 0.8809523582458496%\n",
      "Iteration: 2500, Loss: 1.0363285541534424, Accuracy: 0.8928571343421936%\n",
      "Iteration: 3000, Loss: 0.9323388934135437, Accuracy: 0.9047619104385376%\n",
      "Iteration: 3500, Loss: 0.9056578278541565, Accuracy: 0.9285714030265808%\n",
      "Iteration: 4000, Loss: 0.7527150511741638, Accuracy: 0.9285714030265808%\n",
      "Iteration: 4500, Loss: 0.9719891548156738, Accuracy: 0.9523809552192688%\n",
      "Iteration: 5000, Loss: 0.8043807744979858, Accuracy: 0.9642857313156128%\n",
      "Iteration: 5500, Loss: 0.7586126923561096, Accuracy: 0.976190447807312%\n",
      "Iteration: 6000, Loss: 0.8673529028892517, Accuracy: 0.976190447807312%\n",
      "Iteration: 6500, Loss: 0.6702761054039001, Accuracy: 0.976190447807312%\n",
      "Iteration: 7000, Loss: 0.715650737285614, Accuracy: 0.976190447807312%\n",
      "Iteration: 7500, Loss: 0.6401408314704895, Accuracy: 0.976190447807312%\n",
      "Iteration: 8000, Loss: 0.7332115173339844, Accuracy: 0.976190447807312%\n",
      "Iteration: 8500, Loss: 0.554635763168335, Accuracy: 0.9642857313156128%\n",
      "Iteration: 9000, Loss: 0.6602674126625061, Accuracy: 0.9642857313156128%\n",
      "Iteration: 9500, Loss: 0.5242329835891724, Accuracy: 0.9642857313156128%\n"
     ]
    }
   ],
   "source": [
    "count = 0\n",
    "loss_list = []\n",
    "iteration_list = []\n",
    "\n",
    "for epoch in range(num_epochs):\n",
    "    for i, (images, labels) in enumerate(train_loader):\n",
    "        train = Variable(images.view(-1, 28*28))\n",
    "        labels = Variable(labels)\n",
    "        \n",
    "        #Clear gradients\n",
    "        optimizer.zero_grad()\n",
    "        \n",
    "        #forward\n",
    "        outputs = model(train.float())\n",
    "        \n",
    "        #softmax, cross entropy loss\n",
    "        loss = error(outputs, labels)\n",
    "        \n",
    "        loss.backward()\n",
    "        \n",
    "        #update parameters\n",
    "        optimizer.step()\n",
    "        \n",
    "        count += 1\n",
    "        \n",
    "        if(count % 50 == 0):\n",
    "            # acc\n",
    "            correct = 0\n",
    "            total = 0\n",
    "            \n",
    "            for images, labels in test_loader:\n",
    "                test = Variable(images.view(-1, 28*28))\n",
    "                \n",
    "                outputs = model(test.float())\n",
    "                \n",
    "                predicted = torch.max(outputs.data, 1)[1]\n",
    "                \n",
    "                total += len(labels)\n",
    "                \n",
    "                correct = (predicted == labels).sum()\n",
    "                \n",
    "            accuracy = 100 * correct / float(total)\n",
    "            \n",
    "            loss_list.append(loss.data)\n",
    "            iteration_list.append(count)\n",
    "        if count % 500 == 0:\n",
    "            print(\"Iteration: {}, Loss: {}, Accuracy: {}%\".format(count, loss.data, accuracy))"
   ]
  },
  {
   "cell_type": "code",
   "execution_count": 11,
   "id": "cc343b84",
   "metadata": {},
   "outputs": [
    {
     "data": {
      "image/png": "[encoded data removed]",
      "text/plain": [
       "<Figure size 432x288 with 1 Axes>"
      ]
     },
     "metadata": {
      "needs_background": "light"
     },
     "output_type": "display_data"
    }
   ],
   "source": [
    "plt.plot(iteration_list, loss_list)\n",
    "plt.xlabel(\"Number of Iteration\")\n",
    "plt.ylabel(\"Loss\")\n",
    "plt.title(\"Logistic Regression: Loss vs Number of Iteration\")\n",
    "plt.show()"
   ]
  },
  {
   "cell_type": "code",
   "execution_count": null,
   "id": "ae31532e",
   "metadata": {},
   "outputs": [],
   "source": []
  }
 ],
 "metadata": {
  "kernelspec": {
   "display_name": "Python 3 (ipykernel)",
   "language": "python",
   "name": "python3"
  },
  "language_info": {
   "codemirror_mode": {
    "name": "ipython",
    "version": 3
   },
   "file_extension": ".py",
   "mimetype": "text/x-python",
   "name": "python",
   "nbconvert_exporter": "python",
   "pygments_lexer": "ipython3",
   "version": "3.8.12"
  }
 },
 "nbformat": 4,
 "nbformat_minor": 5
}
