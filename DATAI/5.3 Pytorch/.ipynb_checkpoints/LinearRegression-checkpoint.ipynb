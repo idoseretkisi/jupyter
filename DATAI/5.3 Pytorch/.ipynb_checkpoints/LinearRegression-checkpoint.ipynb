{
 "cells": [
  {
   "cell_type": "code",
   "execution_count": 1,
   "id": "6ad60f27",
   "metadata": {},
   "outputs": [],
   "source": [
    "import numpy as np\n",
    "import pandas as pd\n",
    "import matplotlib.pyplot as plt\n",
    "import torch\n",
    "import os\n",
    "os.environ[\"KMP_DUPLICATE_LIB_OK\"]=\"TRUE\""
   ]
  },
  {
   "cell_type": "code",
   "execution_count": 2,
   "id": "9dfd08c2",
   "metadata": {},
   "outputs": [
    {
     "name": "stdout",
     "output_type": "stream",
     "text": [
      "Array Type: <class 'numpy.ndarray'>\n",
      "Array Shape: (2, 3)\n",
      "[[1 2 3]\n",
      " [4 5 6]]\n"
     ]
    }
   ],
   "source": [
    "array = [[1,2,3],[4,5,6]]\n",
    "first_array = np.array(array)\n",
    "print(\"Array Type: {}\".format(type(first_array)))\n",
    "print(\"Array Shape: {}\".format(np.shape(first_array)))\n",
    "print(first_array)"
   ]
  },
  {
   "cell_type": "code",
   "execution_count": 3,
   "id": "7e8cabb6",
   "metadata": {},
   "outputs": [
    {
     "name": "stdout",
     "output_type": "stream",
     "text": [
      "Array Type: <built-in method type of Tensor object at 0x000001F9410F0D60>\n",
      "Array Shape: torch.Size([2, 3])\n",
      "tensor([[1., 2., 3.],\n",
      "        [4., 5., 6.]])\n"
     ]
    }
   ],
   "source": [
    "tensor = torch.Tensor(array)\n",
    "print(\"Array Type: {}\".format(tensor.type))\n",
    "print(\"Array Shape: {}\".format(tensor.shape))\n",
    "print(tensor)"
   ]
  },
  {
   "cell_type": "code",
   "execution_count": 4,
   "id": "c8ed3a74",
   "metadata": {},
   "outputs": [
    {
     "name": "stdout",
     "output_type": "stream",
     "text": [
      "Numpy [[1. 1. 1.]\n",
      " [1. 1. 1.]]\n",
      "\n",
      "tensor([[1., 1., 1.],\n",
      "        [1., 1., 1.]])\n"
     ]
    }
   ],
   "source": [
    "print(\"Numpy {}\\n\".format(np.ones((2,3))))\n",
    "      \n",
    "print(torch.ones((2,3)))"
   ]
  },
  {
   "cell_type": "code",
   "execution_count": 5,
   "id": "e8a35050",
   "metadata": {},
   "outputs": [
    {
     "name": "stdout",
     "output_type": "stream",
     "text": [
      "Numpy [[0.63581393 0.58652411 0.3095313 ]\n",
      " [0.20476424 0.80504142 0.96614331]]\n",
      "\n",
      "tensor([[0.8101, 0.5957, 0.6384],\n",
      "        [0.7748, 0.8582, 0.8797]])\n"
     ]
    }
   ],
   "source": [
    "print(\"Numpy {}\\n\".format(np.random.rand(2,3)))\n",
    "\n",
    "print(torch.rand(2,3))"
   ]
  },
  {
   "cell_type": "code",
   "execution_count": 6,
   "id": "47430505",
   "metadata": {},
   "outputs": [
    {
     "name": "stdout",
     "output_type": "stream",
     "text": [
      "<class 'numpy.ndarray'> [[0.30842828 0.85525118]\n",
      " [0.18527114 0.18331491]]\n",
      "\n",
      "tensor([[0.3084, 0.8553],\n",
      "        [0.1853, 0.1833]], dtype=torch.float64)\n",
      "\n",
      "<class 'numpy.ndarray'> [[0.30842828 0.85525118]\n",
      " [0.18527114 0.18331491]]\n",
      "\n"
     ]
    }
   ],
   "source": [
    "array = np.random.rand(2,2)\n",
    "print(\"{} {}\\n\".format(type(array), array))\n",
    "\n",
    "from_numpy_to_tensor = torch.from_numpy(array)\n",
    "print(\"{}\\n\".format(from_numpy_to_tensor))\n",
    "\n",
    "tensor = from_numpy_to_tensor\n",
    "from_tensor_to_numpy = tensor.numpy()\n",
    "print(\"{} {}\\n\".format(type(from_tensor_to_numpy), from_tensor_to_numpy))"
   ]
  },
  {
   "cell_type": "markdown",
   "id": "93c7fd7c",
   "metadata": {},
   "source": [
    "**Basic Math with Pytorch**\n",
    "* Resize: view()\n",
    "* a and b are tensor.\n",
    "* Addition: torch.add(a,b) = a + b\n",
    "* Subtraction: a.sub(b) = a - b\n",
    "* Element wise multiplication: torch.mul(a,b) = a * b\n",
    "* Element wise division: torch.div(a,b) = a / b\n",
    "* Mean: a.mean()\n",
    "* Standart Deviation (std): a.std()"
   ]
  },
  {
   "cell_type": "code",
   "execution_count": 7,
   "id": "164771a7",
   "metadata": {},
   "outputs": [
    {
     "name": "stdout",
     "output_type": "stream",
     "text": [
      "\n",
      " tensor([[1., 1., 1.],\n",
      "        [1., 1., 1.],\n",
      "        [1., 1., 1.]])\n",
      "torch.Size([9])tensor([1., 1., 1., 1., 1., 1., 1., 1., 1.])\n",
      "\n",
      "Addition:\n",
      "tensor([[2., 2., 2.],\n",
      "        [2., 2., 2.],\n",
      "        [2., 2., 2.]])\n",
      "Subtraction:\n",
      "tensor([[0., 0., 0.],\n",
      "        [0., 0., 0.],\n",
      "        [0., 0., 0.]])\n",
      "Multiplication:\n",
      "tensor([[1., 1., 1.],\n",
      "        [1., 1., 1.],\n",
      "        [1., 1., 1.]])\n",
      "Division:\n",
      "tensor([[1., 1., 1.],\n",
      "        [1., 1., 1.],\n",
      "        [1., 1., 1.]])\n",
      "Mean: 3.0\n",
      "std: 1.5811388492584229\n"
     ]
    }
   ],
   "source": [
    "tensor = torch.ones(3,3)\n",
    "print(\"\\n\", tensor)\n",
    "#resize\n",
    "print(\"{}{}\\n\".format(tensor.view(9).shape, tensor.view(9)))\n",
    "#addition\n",
    "print(\"Addition:\\n{}\".format(torch.add(tensor, tensor)))\n",
    "#subtraction\n",
    "print(\"Subtraction:\\n{}\".format(tensor.sub(tensor)))\n",
    "#multiplication\n",
    "print(\"Multiplication:\\n{}\".format(torch.mul(tensor, tensor)))\n",
    "#division\n",
    "print(\"Division:\\n{}\".format(torch.div(tensor, tensor)))\n",
    "\n",
    "tensor = torch.Tensor([1, 2, 3, 4, 5])\n",
    "print(\"Mean: {}\".format(tensor.mean()))\n",
    "print(\"std: {}\".format(tensor.std()))"
   ]
  },
  {
   "cell_type": "code",
   "execution_count": 8,
   "id": "b3975457",
   "metadata": {},
   "outputs": [
    {
     "data": {
      "text/plain": [
       "tensor([1., 1., 1.], requires_grad=True)"
      ]
     },
     "execution_count": 8,
     "metadata": {},
     "output_type": "execute_result"
    }
   ],
   "source": [
    "from torch.autograd import Variable\n",
    "\n",
    "var = Variable(torch.ones(3), requires_grad = True)\n",
    "var"
   ]
  },
  {
   "cell_type": "code",
   "execution_count": 9,
   "id": "8caf33e4",
   "metadata": {},
   "outputs": [
    {
     "name": "stdout",
     "output_type": "stream",
     "text": [
      "y =  tensor([ 4., 16.], grad_fn=<PowBackward0>)\n",
      "o =  tensor(10., grad_fn=<MulBackward0>)\n",
      "gradients:  tensor([2., 4.])\n"
     ]
    }
   ],
   "source": [
    "array = [2,4]\n",
    "tensor = torch.Tensor(array)\n",
    "x = Variable(tensor, requires_grad = True)\n",
    "y = x**2\n",
    "print(\"y = \", y)\n",
    "\n",
    "o = (1/2)*sum(y)\n",
    "print(\"o = \", o)\n",
    "\n",
    "o.backward()\n",
    "\n",
    "print(\"gradients: \",x.grad)"
   ]
  },
  {
   "cell_type": "code",
   "execution_count": 10,
   "id": "539f7810",
   "metadata": {},
   "outputs": [],
   "source": [
    "car_prices_array = [3,4,5,6,7,8,9]\n",
    "car_price_np = np.array(car_prices_array,dtype=np.float32)\n",
    "car_price_np = car_price_np.reshape(-1,1)\n",
    "car_price_tensor = Variable(torch.from_numpy(car_price_np))"
   ]
  },
  {
   "cell_type": "code",
   "execution_count": 11,
   "id": "4b54ddf4",
   "metadata": {},
   "outputs": [],
   "source": [
    "number_of_car_sell_array = [ 7.5, 7, 6.5, 6.0, 5.5, 5.0, 4.5]\n",
    "number_of_car_sell_np = np.array(number_of_car_sell_array,dtype=np.float32)\n",
    "number_of_car_sell_np = number_of_car_sell_np.reshape(-1,1)\n",
    "number_of_car_sell_tensor = Variable(torch.from_numpy(number_of_car_sell_np))"
   ]
  },
  {
   "cell_type": "code",
   "execution_count": 12,
   "id": "6851d31e",
   "metadata": {},
   "outputs": [
    {
     "data": {
      "image/png": "[encoded data removed]",
      "text/plain": [
       "<Figure size 432x288 with 1 Axes>"
      ]
     },
     "metadata": {
      "needs_background": "light"
     },
     "output_type": "display_data"
    }
   ],
   "source": [
    "plt.scatter(car_prices_array,number_of_car_sell_array)\n",
    "plt.xlabel(\"Car Price\")\n",
    "plt.ylabel(\"Number of Car Sell\")\n",
    "plt.title(\"Car Price VS Number of Car Sell\")\n",
    "plt.show()"
   ]
  },
  {
   "cell_type": "code",
   "execution_count": 13,
   "id": "8eef1442",
   "metadata": {},
   "outputs": [],
   "source": [
    "import torch.nn as nn\n",
    "import warnings\n",
    "warnings.filterwarnings(\"ignore\")"
   ]
  },
  {
   "cell_type": "code",
   "execution_count": 14,
   "id": "2750543b",
   "metadata": {},
   "outputs": [],
   "source": [
    "class LinearRegression(nn.Module):\n",
    "    def __init__(self, input_size, output_size):\n",
    "        #inherit\n",
    "        super(LinearRegression, self).__init__()\n",
    "        #Linear function\n",
    "        self.linear = nn.Linear(input_dim, output_dim)\n",
    "        \n",
    "    def forward(self, x):\n",
    "        return self.linear(x)"
   ]
  },
  {
   "cell_type": "code",
   "execution_count": 21,
   "id": "138c9b6b",
   "metadata": {},
   "outputs": [
    {
     "name": "stdout",
     "output_type": "stream",
     "text": [
      "epoch 0, loss 113.66748809814453\n",
      "epoch 50, loss 4.170472621917725\n",
      "epoch 100, loss 2.818162679672241\n",
      "epoch 150, loss 1.904350996017456\n",
      "epoch 200, loss 1.2868493795394897\n",
      "epoch 250, loss 0.8695773482322693\n",
      "epoch 300, loss 0.5876094698905945\n",
      "epoch 350, loss 0.39707252383232117\n",
      "epoch 400, loss 0.26831892132759094\n",
      "epoch 450, loss 0.18131406605243683\n",
      "epoch 500, loss 0.12252147495746613\n",
      "epoch 550, loss 0.08279296010732651\n",
      "epoch 600, loss 0.05594648793339729\n",
      "epoch 650, loss 0.03780529275536537\n",
      "epoch 700, loss 0.02554647997021675\n",
      "epoch 750, loss 0.017263030633330345\n",
      "epoch 800, loss 0.011665339581668377\n",
      "epoch 850, loss 0.007882806472480297\n",
      "epoch 900, loss 0.005326731596142054\n",
      "epoch 950, loss 0.0035995037760585546\n",
      "epoch 1000, loss 0.0024323691613972187\n",
      "epoch 1050, loss 0.0016436456935480237\n",
      "epoch 1100, loss 0.001110571320168674\n",
      "epoch 1150, loss 0.0007504444802179933\n",
      "epoch 1200, loss 0.0005071154446341097\n",
      "epoch 1250, loss 0.00034261768450960517\n",
      "epoch 1300, loss 0.00023152485664468259\n",
      "epoch 1350, loss 0.00015645127859897912\n",
      "epoch 1400, loss 0.00010571799793979153\n",
      "epoch 1450, loss 7.145149720599875e-05\n"
     ]
    }
   ],
   "source": [
    "input_dim = 1\n",
    "output_dim = 1\n",
    "model = LinearRegression(input_dim, output_dim)\n",
    "\n",
    "mse = nn.MSELoss()\n",
    "\n",
    "learning_rate = 0.02\n",
    "optimizer = torch.optim.SGD(model.parameters(), lr = learning_rate)\n",
    "\n",
    "loss_list = []\n",
    "iteration_number = 1500\n",
    "for iteration in range(iteration_number):\n",
    "    optimizer.zero_grad()\n",
    "    results = model(car_price_tensor)\n",
    "    loss = mse(results, number_of_car_sell_tensor)\n",
    "    loss.backward()\n",
    "    optimizer.step()\n",
    "    loss_list.append(loss.data)\n",
    "    \n",
    "    if(iteration %50 == 0):\n",
    "        print(\"epoch {}, loss {}\".format(iteration, loss.data))"
   ]
  },
  {
   "cell_type": "code",
   "execution_count": 22,
   "id": "deb3ef95-edc5-4adf-b249-c496ad009de4",
   "metadata": {},
   "outputs": [
    {
     "data": {
      "text/plain": [
       "Text(0, 0.5, 'Loss')"
      ]
     },
     "execution_count": 22,
     "metadata": {},
     "output_type": "execute_result"
    },
    {
     "data": {
      "image/png": "[encoded data removed]",
      "text/plain": [
       "<Figure size 432x288 with 1 Axes>"
      ]
     },
     "metadata": {
      "needs_background": "light"
     },
     "output_type": "display_data"
    }
   ],
   "source": [
    "plt.plot(range(iteration_number), loss_list)\n",
    "plt.xlabel(\"Number of Iteration\")\n",
    "plt.ylabel(\"Loss\")"
   ]
  },
  {
   "cell_type": "code",
   "execution_count": 23,
   "id": "422657a3-b3f8-4f2f-91ab-0dcceefa48c1",
   "metadata": {},
   "outputs": [
    {
     "data": {
      "image/png": "[encoded data removed]",
      "text/plain": [
       "<Figure size 432x288 with 1 Axes>"
      ]
     },
     "metadata": {
      "needs_background": "light"
     },
     "output_type": "display_data"
    }
   ],
   "source": [
    "predicted = model(car_price_tensor).data.numpy()\n",
    "plt.scatter(car_prices_array, number_of_car_sell_array, label = \"original data\", color = \"red\")\n",
    "plt.scatter(car_prices_array, predicted, label = \"predicted data\", color = \"blue\")\n",
    "plt.legend()\n",
    "plt.xlabel(\"Car Price\")\n",
    "plt.ylabel(\"Number of Car Sell\")\n",
    "plt.title(\"Original vs Predicted Values\")\n",
    "plt.show()"
   ]
  },
  {
   "cell_type": "code",
   "execution_count": null,
   "id": "a1c9c1f3",
   "metadata": {},
   "outputs": [],
   "source": []
  },
  {
   "cell_type": "code",
   "execution_count": null,
   "id": "6092668a",
   "metadata": {},
   "outputs": [],
   "source": []
  }
 ],
 "metadata": {
  "kernelspec": {
   "display_name": "Python 3 (ipykernel)",
   "language": "python",
   "name": "python3"
  },
  "language_info": {
   "codemirror_mode": {
    "name": "ipython",
    "version": 3
   },
   "file_extension": ".py",
   "mimetype": "text/x-python",
   "name": "python",
   "nbconvert_exporter": "python",
   "pygments_lexer": "ipython3",
   "version": "3.8.12"
  }
 },
 "nbformat": 4,
 "nbformat_minor": 5
}
