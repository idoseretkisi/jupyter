{
 "cells": [
  {
   "cell_type": "code",
   "execution_count": 1,
   "id": "4e896f07",
   "metadata": {},
   "outputs": [],
   "source": [
    "import torch\n",
    "import torch.nn as nn\n",
    "from torch.autograd import Variable\n",
    "from torch.utils.data import DataLoader\n",
    "import pandas as pd\n",
    "from sklearn.model_selection import train_test_split\n",
    "import matplotlib.pyplot as plt\n",
    "import numpy as np"
   ]
  },
  {
   "cell_type": "code",
   "execution_count": 2,
   "id": "fb6fe0e5",
   "metadata": {},
   "outputs": [],
   "source": [
    "train = pd.read_csv(r\"C:/Users/Dileemre/Desktop/jupyter/DATAAITEAM/train.csv\", dtype = np.float32)\n",
    "\n",
    "targets_np = train.label.values\n",
    "features_np = train.loc[:,train.columns != \"label\"].values/255\n",
    "\n",
    "features_train, features_test, targets_train, targets_test = train_test_split(features_np,\n",
    "                                                                             targets_np,\n",
    "                                                                             test_size = 0.2,\n",
    "                                                                             random_state = 42)\n",
    "\n",
    "x_train = torch.from_numpy(features_train)\n",
    "y_train = torch.from_numpy(targets_train).type(torch.LongTensor)\n",
    "\n",
    "x_test = torch.from_numpy(features_test)\n",
    "y_test = torch.from_numpy(targets_test).type(torch.LongTensor)\n",
    "\n",
    "batch_size = 100\n",
    "n_iters = 6000\n",
    "num_epochs = n_iters / (len(features_train) / batch_size)\n",
    "num_epochs = int(num_epochs)\n",
    "\n",
    "train = torch.utils.data.TensorDataset(x_train, y_train)\n",
    "test = torch.utils.data.TensorDataset(x_test, y_test)\n",
    "\n",
    "train_loader = DataLoader(train, batch_size = batch_size, shuffle = False)\n",
    "test_loader = DataLoader(test, batch_size = batch_size, shuffle = False)"
   ]
  },
  {
   "cell_type": "code",
   "execution_count": 3,
   "id": "662a236e",
   "metadata": {},
   "outputs": [],
   "source": [
    "class LSTMModel(nn.Module):\n",
    "    def __init__(self, input_dim, hidden_dim, layer_dim, output_dim):\n",
    "        super(LSTMModel, self).__init__()\n",
    "        \n",
    "        self.hidden_dim = hidden_dim\n",
    "        self.layer_dim = layer_dim\n",
    "        self.lstm = nn.LSTM(input_dim, hidden_dim, layer_dim, batch_first=True) # batch_first=True (batch_dim, seq_dim, feature_dim)\n",
    "        self.fc = nn.Linear(hidden_dim, output_dim)\n",
    "\n",
    "    def forward(self, x):\n",
    "        h0 = torch.zeros(self.layer_dim, x.size(0), self.hidden_dim).requires_grad_()\n",
    "        c0 = torch.zeros(self.layer_dim, x.size(0), self.hidden_dim).requires_grad_()\n",
    "\n",
    "        out, (hn, cn) = self.lstm(x, (h0.detach(), c0.detach()))\n",
    "        out = self.fc(out[:, -1, :]) \n",
    "        return out"
   ]
  },
  {
   "cell_type": "code",
   "execution_count": 4,
   "id": "3a3b284a",
   "metadata": {},
   "outputs": [],
   "source": [
    "input_dim = 28\n",
    "hidden_dim = 100\n",
    "layer_dim = 1\n",
    "output_dim = 10\n",
    "model = LSTMModel(input_dim, hidden_dim, layer_dim, output_dim)\n",
    "error = nn.CrossEntropyLoss()\n",
    "learning_rate = 0.1\n",
    "optimizer = torch.optim.SGD(model.parameters(), lr=learning_rate)"
   ]
  },
  {
   "cell_type": "code",
   "execution_count": 5,
   "id": "d65803a1",
   "metadata": {},
   "outputs": [
    {
     "name": "stdout",
     "output_type": "stream",
     "text": [
      "iter 500 loss 2.2517354488372803 acc 18.880952835083008\n",
      "iter 1000 loss 1.2187765836715698 acc 61.5476188659668\n",
      "iter 1500 loss 0.38039058446884155 acc 86.21428680419922\n",
      "iter 2000 loss 0.34546372294425964 acc 92.13095092773438\n",
      "iter 2500 loss 0.17843171954154968 acc 93.4047622680664\n",
      "iter 3000 loss 0.1636975109577179 acc 95.05952453613281\n",
      "iter 3500 loss 0.1654830425977707 acc 95.67857360839844\n",
      "iter 4000 loss 0.023857684805989265 acc 95.80952453613281\n",
      "iter 4500 loss 0.09833070635795593 acc 96.0\n",
      "iter 5000 loss 0.05535149574279785 acc 96.58333587646484\n",
      "iter 5500 loss 0.10211256891489029 acc 96.58333587646484\n"
     ]
    }
   ],
   "source": [
    "seq_dim = 28\n",
    "loss_list = []\n",
    "iter_list = []\n",
    "acc_list = []\n",
    "count = 0\n",
    "\n",
    "for epoch in range(num_epochs):\n",
    "    for i, (images, labels) in enumerate(train_loader):\n",
    "        train = Variable(images.view(-1, seq_dim, input_dim)).requires_grad_()\n",
    "        \n",
    "        optimizer.zero_grad()\n",
    "        outputs = model(train)\n",
    "        loss = error(outputs, labels)\n",
    "        loss.backward()\n",
    "        optimizer.step()\n",
    "        count += 1\n",
    "        if count % 50 == 0:\n",
    "            correct = 0\n",
    "            total = 0\n",
    "            for images, labels in test_loader:\n",
    "                test = images.view(-1, seq_dim, input_dim)\n",
    "                outputs = model(test)\n",
    "                _, preticted = torch.max(outputs.data, 1)\n",
    "                total += labels.size(0)\n",
    "                correct += (preticted == labels).sum()\n",
    "\n",
    "            acc = 100 * correct / total\n",
    "            loss_list.append(loss.data)\n",
    "            iter_list.append(count)\n",
    "            acc_list.append(acc)\n",
    "            \n",
    "        if count % 500 == 0:\n",
    "            print(\"iter {} loss {} acc {}\".format(count, loss.data.item(), acc))"
   ]
  },
  {
   "cell_type": "code",
   "execution_count": 8,
   "id": "a6d8da69",
   "metadata": {},
   "outputs": [
    {
     "data": {
      "image/png": "[encoded data removed]",
      "text/plain": [
       "<Figure size 432x288 with 1 Axes>"
      ]
     },
     "metadata": {
      "needs_background": "light"
     },
     "output_type": "display_data"
    },
    {
     "data": {
      "image/png": "[encoded data removed]",
      "text/plain": [
       "<Figure size 432x288 with 1 Axes>"
      ]
     },
     "metadata": {
      "needs_background": "light"
     },
     "output_type": "display_data"
    }
   ],
   "source": [
    "plt.plot(iter_list, loss_list)\n",
    "plt.xlabel(\"iter\")\n",
    "plt.ylabel(\"loss\")\n",
    "plt.title(\"LSTM loss\")\n",
    "plt.show()\n",
    "\n",
    "plt.plot(iter_list, acc_list, color = \"red\")\n",
    "plt.xlabel(\"iter\")\n",
    "plt.ylabel(\"acc\")\n",
    "plt.title(\"LSTM acc\")\n",
    "plt.show()"
   ]
  },
  {
   "cell_type": "code",
   "execution_count": null,
   "id": "7281201d",
   "metadata": {},
   "outputs": [],
   "source": []
  }
 ],
 "metadata": {
  "kernelspec": {
   "display_name": "Python 3 (ipykernel)",
   "language": "python",
   "name": "python3"
  },
  "language_info": {
   "codemirror_mode": {
    "name": "ipython",
    "version": 3
   },
   "file_extension": ".py",
   "mimetype": "text/x-python",
   "name": "python",
   "nbconvert_exporter": "python",
   "pygments_lexer": "ipython3",
   "version": "3.8.12"
  }
 },
 "nbformat": 4,
 "nbformat_minor": 5
}
