{
 "cells": [
  {
   "cell_type": "code",
   "execution_count": null,
   "id": "e704f4c8-c337-426f-b41a-d7d9c70e2a98",
   "metadata": {},
   "outputs": [],
   "source": [
    "from keras.applications.vgg16 import VGG16\n",
    "from keras.preprocessing.image import load_img, img_to_array, ImageDataGenerator\n",
    "from keras.models import Sequential\n",
    "from keras.layers import Dense\n",
    "import matplotlib.pyplot as plt\n",
    "from glob import glob"
   ]
  },
  {
   "cell_type": "code",
   "execution_count": null,
   "id": "93acb350-0efe-49e8-8948-39ef2187df66",
   "metadata": {},
   "outputs": [],
   "source": [
    "train_path = \"fruits-360/Training/\"\n",
    "test_path = \"fruits-360/Test/\"\n",
    "\n",
    "img = load_img(train_path + \"Avocado/0_100.jpg\")\n",
    "plt.imshow(img)\n",
    "plt.show()"
   ]
  },
  {
   "cell_type": "code",
   "execution_count": null,
   "id": "cfaf7600-a9e2-4cf5-904b-0f878816f3e1",
   "metadata": {},
   "outputs": [],
   "source": [
    "x = img_to_array(img)\n",
    "print(x.shape)"
   ]
  },
  {
   "cell_type": "code",
   "execution_count": null,
   "id": "9248225b-53c4-4f63-808b-a18f8d8c936d",
   "metadata": {},
   "outputs": [],
   "source": [
    "numberOfClass = len(glob(train_path+\"/*\"))"
   ]
  },
  {
   "cell_type": "code",
   "execution_count": null,
   "id": "9e7977c8-ae94-44e2-9bf4-9fb5d95f83c2",
   "metadata": {},
   "outputs": [],
   "source": [
    "vgg = VGG16()"
   ]
  },
  {
   "cell_type": "code",
   "execution_count": null,
   "id": "dc456d6d-fcd8-42d0-ac07-c1c512e01aa1",
   "metadata": {},
   "outputs": [],
   "source": [
    "print(vgg.summary())"
   ]
  },
  {
   "cell_type": "code",
   "execution_count": null,
   "id": "6c3e89c9-c2c8-4ebc-830b-1322425103ff",
   "metadata": {},
   "outputs": [],
   "source": [
    "print(type(vgg))"
   ]
  },
  {
   "cell_type": "code",
   "execution_count": null,
   "id": "88d275b3-a85b-49ad-8c1b-364d36b7f154",
   "metadata": {},
   "outputs": [],
   "source": [
    "vgg_layer_list = vgg.layers\n",
    "print(vgg_layer_list)"
   ]
  },
  {
   "cell_type": "code",
   "execution_count": 28,
   "id": "11879ab2-b989-46ab-9e2a-dc66c4885fa6",
   "metadata": {},
   "outputs": [
    {
     "name": "stdout",
     "output_type": "stream",
     "text": [
      "Model: \"sequential_2\"\n",
      "_________________________________________________________________\n",
      "Layer (type)                 Output Shape              Param #   \n",
      "=================================================================\n",
      "block1_conv1 (Conv2D)        (None, 224, 224, 64)      1792      \n",
      "_________________________________________________________________\n",
      "block1_conv2 (Conv2D)        (None, 224, 224, 64)      36928     \n",
      "_________________________________________________________________\n",
      "block1_pool (MaxPooling2D)   (None, 112, 112, 64)      0         \n",
      "_________________________________________________________________\n",
      "block2_conv1 (Conv2D)        (None, 112, 112, 128)     73856     \n",
      "_________________________________________________________________\n",
      "block2_conv2 (Conv2D)        (None, 112, 112, 128)     147584    \n",
      "_________________________________________________________________\n",
      "block2_pool (MaxPooling2D)   (None, 56, 56, 128)       0         \n",
      "_________________________________________________________________\n",
      "block3_conv1 (Conv2D)        (None, 56, 56, 256)       295168    \n",
      "_________________________________________________________________\n",
      "block3_conv2 (Conv2D)        (None, 56, 56, 256)       590080    \n",
      "_________________________________________________________________\n",
      "block3_conv3 (Conv2D)        (None, 56, 56, 256)       590080    \n",
      "_________________________________________________________________\n",
      "block3_pool (MaxPooling2D)   (None, 28, 28, 256)       0         \n",
      "_________________________________________________________________\n",
      "block4_conv1 (Conv2D)        (None, 28, 28, 512)       1180160   \n",
      "_________________________________________________________________\n",
      "block4_conv2 (Conv2D)        (None, 28, 28, 512)       2359808   \n",
      "_________________________________________________________________\n",
      "block4_conv3 (Conv2D)        (None, 28, 28, 512)       2359808   \n",
      "_________________________________________________________________\n",
      "block4_pool (MaxPooling2D)   (None, 14, 14, 512)       0         \n",
      "_________________________________________________________________\n",
      "block5_conv1 (Conv2D)        (None, 14, 14, 512)       2359808   \n",
      "_________________________________________________________________\n",
      "block5_conv2 (Conv2D)        (None, 14, 14, 512)       2359808   \n",
      "_________________________________________________________________\n",
      "block5_conv3 (Conv2D)        (None, 14, 14, 512)       2359808   \n",
      "_________________________________________________________________\n",
      "block5_pool (MaxPooling2D)   (None, 7, 7, 512)         0         \n",
      "_________________________________________________________________\n",
      "flatten (Flatten)            (None, 25088)             0         \n",
      "_________________________________________________________________\n",
      "fc1 (Dense)                  (None, 4096)              102764544 \n",
      "_________________________________________________________________\n",
      "fc2 (Dense)                  (None, 4096)              16781312  \n",
      "=================================================================\n",
      "Total params: 134,260,544\n",
      "Trainable params: 134,260,544\n",
      "Non-trainable params: 0\n",
      "_________________________________________________________________\n",
      "None\n"
     ]
    }
   ],
   "source": [
    "model = Sequential()\n",
    "for i in range(len(vgg_layer_list) -1):\n",
    "    model.add(vgg_layer_list[i])\n",
    "    \n",
    "print(model.summary())"
   ]
  },
  {
   "cell_type": "code",
   "execution_count": 29,
   "id": "f3e458bb-cba0-440b-b5f6-de79ddc48a56",
   "metadata": {},
   "outputs": [],
   "source": [
    "for layers in model.layers:\n",
    "    layers.trainable = False"
   ]
  },
  {
   "cell_type": "code",
   "execution_count": 34,
   "id": "53c49e04-caeb-44c7-8890-361ffe32b37d",
   "metadata": {},
   "outputs": [
    {
     "name": "stdout",
     "output_type": "stream",
     "text": [
      "<bound method Model.summary of <tensorflow.python.keras.engine.sequential.Sequential object at 0x0000013ED833F6D0>>\n"
     ]
    }
   ],
   "source": [
    "model.add(Dense(numberOfClass, activation = \"softmax\"))\n",
    "print(model.summary)"
   ]
  },
  {
   "cell_type": "code",
   "execution_count": 36,
   "id": "eb45e2ed-c239-4edf-a93b-2370d298899a",
   "metadata": {},
   "outputs": [],
   "source": [
    "model.compile(loss = \"categorical_crossentropy\",\n",
    "              optimizer = \"rmsprop\",\n",
    "              metrics = [\"accuracy\"])"
   ]
  },
  {
   "cell_type": "code",
   "execution_count": 39,
   "id": "aabc953f-e5ff-4426-b279-af2ce9392616",
   "metadata": {},
   "outputs": [
    {
     "name": "stdout",
     "output_type": "stream",
     "text": [
      "Found 67692 images belonging to 131 classes.\n",
      "Found 22688 images belonging to 131 classes.\n"
     ]
    }
   ],
   "source": [
    "train_data = ImageDataGenerator().flow_from_directory(train_path, target_size = (224, 224))\n",
    "test_data = ImageDataGenerator().flow_from_directory(test_path, target_size = (224, 224))"
   ]
  },
  {
   "cell_type": "code",
   "execution_count": null,
   "id": "2e861923-f2d9-47ac-87c4-ddb7ce91e236",
   "metadata": {},
   "outputs": [
    {
     "name": "stdout",
     "output_type": "stream",
     "text": [
      "WARNING:tensorflow:From C:\\Users\\Dileemre\\AppData\\Local\\Temp/ipykernel_3012/3476917849.py:2: Model.fit_generator (from tensorflow.python.keras.engine.training) is deprecated and will be removed in a future version.\n",
      "Instructions for updating:\n",
      "Please use Model.fit, which supports generators.\n",
      "Epoch 1/25\n",
      "50/50 [==============================] - 726s 15s/step - loss: 3.7579 - accuracy: 0.4150 - val_loss: 2.1379 - val_accuracy: 0.5575\n",
      "Epoch 2/25\n",
      "50/50 [==============================] - 759s 15s/step - loss: 0.9634 - accuracy: 0.7387 - val_loss: 1.2901 - val_accuracy: 0.7100\n",
      "Epoch 3/25\n",
      "50/50 [==============================] - 718s 14s/step - loss: 0.4749 - accuracy: 0.8656 - val_loss: 1.1090 - val_accuracy: 0.7812\n",
      "Epoch 4/25\n",
      "50/50 [==============================] - 651s 13s/step - loss: 0.3164 - accuracy: 0.9087 - val_loss: 0.8216 - val_accuracy: 0.8200\n",
      "Epoch 5/25\n",
      "50/50 [==============================] - 629s 13s/step - loss: 0.2942 - accuracy: 0.9125 - val_loss: 0.5692 - val_accuracy: 0.8712\n",
      "Epoch 6/25\n",
      "50/50 [==============================] - 651s 13s/step - loss: 0.1598 - accuracy: 0.9481 - val_loss: 0.7326 - val_accuracy: 0.8537\n",
      "Epoch 7/25\n",
      "50/50 [==============================] - 593s 12s/step - loss: 0.1757 - accuracy: 0.9556 - val_loss: 0.6335 - val_accuracy: 0.8863\n",
      "Epoch 8/25\n",
      "50/50 [==============================] - 586s 12s/step - loss: 0.1237 - accuracy: 0.9650 - val_loss: 0.4873 - val_accuracy: 0.8838\n",
      "Epoch 9/25\n",
      "50/50 [==============================] - 582s 12s/step - loss: 0.0962 - accuracy: 0.9688 - val_loss: 0.8448 - val_accuracy: 0.8737\n",
      "Epoch 10/25\n",
      "50/50 [==============================] - 648s 13s/step - loss: 0.0858 - accuracy: 0.9712 - val_loss: 0.3051 - val_accuracy: 0.9275\n",
      "Epoch 11/25\n",
      "50/50 [==============================] - 635s 13s/step - loss: 0.0718 - accuracy: 0.9781 - val_loss: 0.3442 - val_accuracy: 0.9125\n",
      "Epoch 12/25\n",
      "50/50 [==============================] - 615s 12s/step - loss: 0.0609 - accuracy: 0.9806 - val_loss: 0.3228 - val_accuracy: 0.9200\n",
      "Epoch 13/25\n",
      "50/50 [==============================] - 598s 12s/step - loss: 0.0462 - accuracy: 0.9869 - val_loss: 0.4261 - val_accuracy: 0.9237\n",
      "Epoch 14/25\n",
      "50/50 [==============================] - 622s 12s/step - loss: 0.0506 - accuracy: 0.9856 - val_loss: 0.4282 - val_accuracy: 0.9013\n",
      "Epoch 15/25\n",
      "50/50 [==============================] - 1059s 21s/step - loss: 0.0272 - accuracy: 0.9919 - val_loss: 0.5508 - val_accuracy: 0.9200\n",
      "Epoch 16/25\n",
      "50/50 [==============================] - 1392s 28s/step - loss: 0.0471 - accuracy: 0.9850 - val_loss: 0.4166 - val_accuracy: 0.9162\n",
      "Epoch 17/25\n",
      "50/50 [==============================] - 1490s 30s/step - loss: 0.0287 - accuracy: 0.9919 - val_loss: 0.4587 - val_accuracy: 0.9187\n",
      "Epoch 18/25\n",
      "50/50 [==============================] - ETA: 0s - loss: 0.0434 - accuracy: 0.9869 "
     ]
    }
   ],
   "source": [
    "batch_size = 32\n",
    "hist = model.fit_generator(train_data,\n",
    "                           steps_per_epoch = 1600//batch_size,\n",
    "                           epochs = 25,\n",
    "                           validation_data = test_data,\n",
    "                           validation_steps = 800//batch_size)"
   ]
  },
  {
   "cell_type": "code",
   "execution_count": null,
   "id": "abf6fde5-3a18-4cec-9564-851f344dc3c8",
   "metadata": {},
   "outputs": [],
   "source": [
    "model.save_weights(\"VggDeneme.h5\")"
   ]
  },
  {
   "cell_type": "code",
   "execution_count": null,
   "id": "ab2bfb4b-3fc3-4dad-8071-9691765ac19a",
   "metadata": {},
   "outputs": [],
   "source": [
    "print(hist.history.keys())\n",
    "plt.plot(hist.history[\"loss\"], label = \"training loss\")\n",
    "plt.plot(hist.history[\"val_loss\"], label = \"validation loss\")\n",
    "plt.legend()\n",
    "plt.show()\n",
    "plt.figure()\n",
    "plt.plot(hist.history[\"accuracy\"], label = \"training acc\")\n",
    "plt.plot(hist.history[\"val_accuracy\"], label = \"validation acc\")\n",
    "plt.legend()\n",
    "plt.show()\n"
   ]
  },
  {
   "cell_type": "code",
   "execution_count": null,
   "id": "0a7b526b-8ec0-4e9c-b81e-deb91021b76e",
   "metadata": {},
   "outputs": [],
   "source": [
    "import tjson, codecs\n",
    "with open(\"VggDeneme.json\", \"w\") as f:\n",
    "    json.dump(hist.history, f)"
   ]
  },
  {
   "cell_type": "code",
   "execution_count": null,
   "id": "3c7f9450-cae0-439e-9138-c2c5df8a8911",
   "metadata": {},
   "outputs": [],
   "source": [
    "with codecs.open(\"VggDeneme.json\", \"r\", encoding = \"utf-8\") as f:\n",
    "    hist = json.loads(f.read())"
   ]
  },
  {
   "cell_type": "code",
   "execution_count": null,
   "id": "175f7161-9b37-4d40-8be9-5030440acb07",
   "metadata": {},
   "outputs": [],
   "source": [
    "print(hist.history.keys())\n",
    "plt.plot(hist[\"loss\"], label = \"training loss\")\n",
    "plt.plot(hist[\"val_loss\"], label = \"validation loss\")\n",
    "plt.legend()\n",
    "plt.show()\n",
    "plt.figure()\n",
    "plt.plot(hist[\"accuracy\"], label = \"training acc\")\n",
    "plt.plot(hist[\"val_accuracy\"], label = \"validation acc\")\n",
    "plt.legend()\n",
    "plt.show()"
   ]
  },
  {
   "cell_type": "code",
   "execution_count": null,
   "id": "371779a7-6732-466a-8765-ad19c24a6e8f",
   "metadata": {},
   "outputs": [],
   "source": []
  }
 ],
 "metadata": {
  "kernelspec": {
   "display_name": "Python 3 (ipykernel)",
   "language": "python",
   "name": "python3"
  },
  "language_info": {
   "codemirror_mode": {
    "name": "ipython",
    "version": 3
   },
   "file_extension": ".py",
   "mimetype": "text/x-python",
   "name": "python",
   "nbconvert_exporter": "python",
   "pygments_lexer": "ipython3",
   "version": "3.8.5"
  },
  "widgets": {
   "application/vnd.jupyter.widget-state+json": {
    "state": {},
    "version_major": 2,
    "version_minor": 0
   }
  }
 },
 "nbformat": 4,
 "nbformat_minor": 5
}
