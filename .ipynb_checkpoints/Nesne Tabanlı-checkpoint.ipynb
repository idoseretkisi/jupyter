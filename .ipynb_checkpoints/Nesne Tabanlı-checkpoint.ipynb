{
 "cells": [
  {
   "cell_type": "markdown",
   "id": "475e1516",
   "metadata": {},
   "source": [
    "# Classes"
   ]
  },
  {
   "cell_type": "code",
   "execution_count": 1,
   "id": "be04d8b7",
   "metadata": {},
   "outputs": [],
   "source": [
    "employee1_name = \"messi\"\n",
    "employee1_age = 33\n",
    "employee1_adress = \"dasdasda\""
   ]
  },
  {
   "cell_type": "code",
   "execution_count": 2,
   "id": "60b480ca",
   "metadata": {},
   "outputs": [],
   "source": [
    "class Employee:\n",
    "    pass"
   ]
  },
  {
   "cell_type": "code",
   "execution_count": 3,
   "id": "86a21552",
   "metadata": {},
   "outputs": [],
   "source": [
    "employee1 = Employee()"
   ]
  },
  {
   "cell_type": "code",
   "execution_count": 4,
   "id": "d126e1a8",
   "metadata": {},
   "outputs": [
    {
     "data": {
      "text/plain": [
       "__main__.Employee"
      ]
     },
     "execution_count": 4,
     "metadata": {},
     "output_type": "execute_result"
    }
   ],
   "source": [
    "type(employee1)"
   ]
  },
  {
   "cell_type": "code",
   "execution_count": 5,
   "id": "cfd7b5de",
   "metadata": {},
   "outputs": [
    {
     "name": "stdout",
     "output_type": "stream",
     "text": [
      "<__main__.Footballer object at 0x000001B0FAA618E0>\n",
      "barcelona\n"
     ]
    }
   ],
   "source": [
    "class Footballer:\n",
    "    football_club = \"barcelona\"\n",
    "    age = 30\n",
    "    \n",
    "f1 = Footballer()\n",
    "print(f1)\n",
    "print(f1.football_club)"
   ]
  },
  {
   "cell_type": "code",
   "execution_count": 6,
   "id": "56c62fbe",
   "metadata": {},
   "outputs": [
    {
     "name": "stdout",
     "output_type": "stream",
     "text": [
      "real madrid\n"
     ]
    }
   ],
   "source": [
    "f1.football_club = \"real madrid\"\n",
    "print(f1.football_club)"
   ]
  },
  {
   "cell_type": "markdown",
   "id": "5bd1e06f",
   "metadata": {},
   "source": [
    "# Methods"
   ]
  },
  {
   "cell_type": "code",
   "execution_count": 7,
   "id": "2291c428",
   "metadata": {},
   "outputs": [
    {
     "name": "stdout",
     "output_type": "stream",
     "text": [
      "<__main__.Square object at 0x000001B0FAAB7520>\n",
      "5\n",
      "0\n",
      "25\n"
     ]
    },
    {
     "data": {
      "text/plain": [
       "25"
      ]
     },
     "execution_count": 7,
     "metadata": {},
     "output_type": "execute_result"
    }
   ],
   "source": [
    "class Square(object):\n",
    "    edge = 5 #meter\n",
    "    area = 0\n",
    "    def area1(self):\n",
    "        self.area = self.edge**2\n",
    "        return self.area\n",
    "    \n",
    "s1 = Square()\n",
    "print(s1)\n",
    "print(s1.edge)\n",
    "print(s1.area)\n",
    "print(s1.area1())\n",
    "s1.area\n",
    "s1.area1()"
   ]
  },
  {
   "cell_type": "markdown",
   "id": "a2b0385d",
   "metadata": {},
   "source": [
    "# Methods vs Functions\n",
    "\n"
   ]
  },
  {
   "cell_type": "code",
   "execution_count": 8,
   "id": "abba5202",
   "metadata": {},
   "outputs": [
    {
     "name": "stdout",
     "output_type": "stream",
     "text": [
      "0.025\n",
      "0.025\n"
     ]
    }
   ],
   "source": [
    "class Emp(object):\n",
    "    age = 25\n",
    "    salary = 1000\n",
    "    \n",
    "    def ageSalaryRatio(self): #Method\n",
    "       print(self.age / self.salary)\n",
    "\n",
    "def ageSalaryRatio(age, salary): #Function\n",
    "    print(age/salary)\n",
    "    \n",
    "e1 = Emp()\n",
    "e1.ageSalaryRatio()\n",
    "\n",
    "ageSalaryRatio(e1.age, e1.salary)"
   ]
  },
  {
   "cell_type": "markdown",
   "id": "911b087e",
   "metadata": {},
   "source": [
    "# Yapıcı / Constructor / Initializer"
   ]
  },
  {
   "cell_type": "code",
   "execution_count": 9,
   "id": "084c1bc4",
   "metadata": {},
   "outputs": [
    {
     "name": "stdout",
     "output_type": "stream",
     "text": [
      "2 3 6 dog cat bird\n"
     ]
    }
   ],
   "source": [
    "class Animal(object):\n",
    "    def __init__(self, name, age):\n",
    "        self.name = name\n",
    "        self.age = age\n",
    "    \n",
    "    def getAge(self):\n",
    "        return self.age\n",
    "    def getName(self):\n",
    "        return self.name\n",
    "    \n",
    "a1 = Animal(\"dog\", 2)\n",
    "a2 = Animal(\"cat\", 3)\n",
    "a3 = Animal(\"bird\", 6)\n",
    "print(a1.getAge(),\n",
    "        a2.getAge(),\n",
    "        a3.getAge(),\n",
    "        a1.getName(),\n",
    "        a2.getName(),\n",
    "        a3.getName())"
   ]
  },
  {
   "cell_type": "markdown",
   "id": "2832fb8f",
   "metadata": {},
   "source": [
    "# Hesapmakinesi Projesi"
   ]
  },
  {
   "cell_type": "code",
   "execution_count": 10,
   "id": "d611172d",
   "metadata": {},
   "outputs": [
    {
     "name": "stdout",
     "output_type": "stream",
     "text": [
      "Add 8, Multipy: 15\n"
     ]
    }
   ],
   "source": [
    "class Calc(object):\n",
    "    \"calculator\"\n",
    "    def __init__(self, a, b):\n",
    "        \"initialize values\"\n",
    "        self.value1 = a\n",
    "        self.value2 = b\n",
    "    def add(self):\n",
    "        \"addition a+b = result -> return result\"\n",
    "        return self.value1 + self.value2\n",
    "    def multiply(self):\n",
    "        \"multiplication a+b = result -> return result\"\n",
    "        return self.value1 * self.value2\n",
    "    def divition(self):\n",
    "        if self.value2 == 0:\n",
    "            print(\"ERR\")\n",
    "            return \"err\"\n",
    "        return self.value1 / self.value2\n",
    "\n",
    "v1 = 5\n",
    "v2 = 3\n",
    "c1 = Calc(v1, v2)\n",
    "\n",
    "add_result = c1.add()\n",
    "multiply_result = c1.multiply()\n",
    "\n",
    "print(\"Add {}, Multipy: {}\".format(add_result, multiply_result))"
   ]
  },
  {
   "cell_type": "code",
   "execution_count": 11,
   "id": "74f3eabc",
   "metadata": {},
   "outputs": [
    {
     "name": "stdout",
     "output_type": "stream",
     "text": [
      "Choose add(1), multoly(2)\n",
      "select 1 or 2 or 32\n",
      "first value2\n",
      "secon value5\n",
      "Result:  10\n"
     ]
    }
   ],
   "source": [
    "print(\"Choose add(1), multoly(2)\")\n",
    "selection = input(\"select 1 or 2 or 3\")\n",
    "v1 = int(input(\"first value\"))\n",
    "v2 = int(input(\"secon value\"))\n",
    "\n",
    "c1 = Calc(v1, v2)\n",
    "\n",
    "if selection == \"1\":\n",
    "    result = add_result = c1.add()\n",
    "elif selection == \"2\":\n",
    "    result = multiply_result = c1.multiply()\n",
    "elif selection == \"3\":\n",
    "    result = multiply_result = c1.divition()\n",
    "    \n",
    "print(\"Result: \", result)"
   ]
  },
  {
   "cell_type": "markdown",
   "id": "b49a51d5",
   "metadata": {},
   "source": [
    "# Kapsülleme"
   ]
  },
  {
   "cell_type": "code",
   "execution_count": 12,
   "id": "c6760b85",
   "metadata": {},
   "outputs": [
    {
     "name": "stdout",
     "output_type": "stream",
     "text": [
      "get method:  1000\n",
      "after set method:  5000\n"
     ]
    }
   ],
   "source": [
    "class BankAccount(object):\n",
    "    def __init__(self, name, money, address):\n",
    "        self.name = name # global\n",
    "        self.__money = money # private\n",
    "        self.address = address\n",
    "        \n",
    "    def getMoney(self):\n",
    "        return self.__money\n",
    "    def setMoney(self, amount):\n",
    "        self.__money = amount\n",
    "    def __increase(self, amount): #privet \n",
    "        self.__money = self.__money + amount\n",
    "        \n",
    "p1 = BankAccount(\"messi\", 1000, \"barcelona\")\n",
    "p2 = BankAccount(\"neymar\", 2000, \"paris\")\n",
    "\n",
    "#p2.__money = p2.__money + p1.__money\n",
    "#p1.money = 0\n",
    "\n",
    "print(\"get method: \", p1.getMoney())\n",
    "#print (\"get method: \", p1.__money)\n",
    "p1.setMoney(5000)\n",
    "print(\"after set method: \", p1.getMoney())\n",
    "#p1.__increase(500) #privet method\n",
    "#print(\"after increase method: \", p1.getMoney())"
   ]
  },
  {
   "cell_type": "markdown",
   "id": "50da49dd",
   "metadata": {},
   "source": [
    "# Inheritance/Miras/Kalıtım"
   ]
  },
  {
   "cell_type": "code",
   "execution_count": 17,
   "id": "ea3562fd",
   "metadata": {},
   "outputs": [
    {
     "name": "stdout",
     "output_type": "stream",
     "text": [
      "animal is created\n",
      "monkey is created\n",
      "monkey\n",
      "animal walk\n",
      "monkey\n",
      "animal is created\n",
      "bird is created\n",
      "animal walk\n",
      "bird is created\n"
     ]
    }
   ],
   "source": [
    "#parent\n",
    "class Animal:\n",
    "    def __init__(self):\n",
    "        print(\"animal is created\")\n",
    "    def toString(self):\n",
    "        print(\"animal\")\n",
    "    def walk(self):\n",
    "        print(\"animal walk\")\n",
    "#class      \n",
    "class Monkey(Animal):\n",
    "    def __init__(self):\n",
    "        super().__init__() #use init of parent(animal)\n",
    "        print(\"monkey is created\")\n",
    "    def toString(self):\n",
    "        print(\"monkey\")\n",
    "    def climb(self):\n",
    "        print(\"monkey\")\n",
    "        \n",
    "class Bird(Animal):\n",
    "    def __init__(self):\n",
    "        super().__init__()\n",
    "        print(\"bird is created\")\n",
    "    def fly(self):\n",
    "        print(\"bird is created\")\n",
    "        \n",
    "m1 = Monkey()\n",
    "m1.toString()\n",
    "m1.walk()\n",
    "m1.climb()\n",
    "\n",
    "b1 = Bird()\n",
    "b1.walk()\n",
    "b1.fly()"
   ]
  },
  {
   "cell_type": "code",
   "execution_count": 24,
   "id": "4f654563",
   "metadata": {},
   "outputs": [
    {
     "name": "stdout",
     "output_type": "stream",
     "text": [
      "name surname\n",
      "name surname\n",
      "name surname 123\n",
      "name surname email@\n"
     ]
    }
   ],
   "source": [
    "class Website:\n",
    "    \"parent\"\n",
    "    def __init__(self, name, surname):\n",
    "        self.name = name\n",
    "        self.surname = surname\n",
    "        \n",
    "    def loginInfo(self):\n",
    "        print(self.name + \" \" + self.surname)\n",
    "      \n",
    "class Website1(Website):\n",
    "    \"child\"\n",
    "    def __init__(self, name, surname, ids):\n",
    "        Website.__init__(self, name, surname)\n",
    "        self.ids = ids\n",
    "    def login(self):\n",
    "        print(self.name + \" \"  + self.surname + \" \"+ self.ids)\n",
    "    \n",
    "    \n",
    "class Website2(Website):\n",
    "    def __init__(self, name, surname, email):\n",
    "        Website.__init__(self, name, surname)\n",
    "        self.email = email\n",
    "    \n",
    "    def login(self):\n",
    "        print(self.name + \" \"  + self.surname + \" \"+ self.email)\n",
    "    \n",
    "p1 = Website(\"name\", \"surname\")\n",
    "p2 = Website1(\"name\", \"surname\", \"123\")\n",
    "p3 = Website2(\"name\", \"surname\", \"email@\")\n",
    "\n",
    "\n",
    "p1.loginInfo()\n",
    "p2.loginInfo()\n",
    "p2.login()\n",
    "p3.login()"
   ]
  },
  {
   "cell_type": "markdown",
   "id": "df788d45",
   "metadata": {},
   "source": [
    "# Abstract Classes / Soyut Sınıflar"
   ]
  },
  {
   "cell_type": "code",
   "execution_count": 32,
   "id": "4c0d64df",
   "metadata": {},
   "outputs": [
    {
     "name": "stdout",
     "output_type": "stream",
     "text": [
      "Bird\n",
      "walk\n",
      "animal run\n"
     ]
    }
   ],
   "source": [
    "from abc import ABC, abstractmethod\n",
    "\n",
    "class Animal(ABC): # super class\n",
    "    @abstractmethod\n",
    "    def walk(self): pass\n",
    "    \n",
    "    def run(self): print(\"animal run\")\n",
    "    \n",
    "    \n",
    "class Bird(Animal):\n",
    "    def __init__(self):\n",
    "        print(\"Bird\")\n",
    "    \n",
    "    def walk(self):\n",
    "        print(\"walk\")\n",
    "        \n",
    "# a = Animal()\n",
    "        \n",
    "b1 = Bird()\n",
    "b1.walk()\n",
    "b1.run()"
   ]
  },
  {
   "cell_type": "markdown",
   "id": "7bbfdebe",
   "metadata": {},
   "source": [
    "# Overriding"
   ]
  },
  {
   "cell_type": "code",
   "execution_count": 33,
   "id": "6426bc96",
   "metadata": {},
   "outputs": [
    {
     "name": "stdout",
     "output_type": "stream",
     "text": [
      "animal\n",
      "monkey\n"
     ]
    }
   ],
   "source": [
    "class Animal:\n",
    "    def toString(self):\n",
    "        print(\"animal\")\n",
    "        \n",
    "class Monkey(Animal):\n",
    "    def toString(self):\n",
    "        print(\"monkey\")\n",
    "        \n",
    "a1 = Animal()\n",
    "a1.toString()\n",
    "\n",
    "m1 = Monkey()\n",
    "m1.toString()"
   ]
  },
  {
   "cell_type": "markdown",
   "id": "f7c501f4",
   "metadata": {},
   "source": [
    "# Polymorphism "
   ]
  },
  {
   "cell_type": "code",
   "execution_count": 37,
   "id": "3fbc0887",
   "metadata": {},
   "outputs": [
    {
     "name": "stdout",
     "output_type": "stream",
     "text": [
      "Emp:  110.0\n",
      "Comp:  120.0\n",
      "EEE:  130.0\n"
     ]
    }
   ],
   "source": [
    "class Employee:\n",
    "    def raisee(self):\n",
    "        raise_rate = 0.1\n",
    "        result = 100+ 100 *raise_rate\n",
    "        print(\"Emp: \", result)\n",
    "    \n",
    "class CompEng(Employee):\n",
    "    def raisee(self):\n",
    "        raise_rate = 0.2\n",
    "        result = 100+ 100 *raise_rate\n",
    "        print(\"Comp: \", result)\n",
    "    \n",
    "class EEE(Employee):\n",
    "    def raisee(self):\n",
    "        raise_rate = 0.3\n",
    "        result = 100+ 100 *raise_rate\n",
    "        print(\"EEE: \", result)\n",
    "    \n",
    "e1 = Employee()\n",
    "ce = CompEng()\n",
    "eee = EEE()\n",
    "\n",
    "employee_list = [e1, ce, eee]\n",
    "\n",
    "for employee in employee_list:\n",
    "    employee.raisee()"
   ]
  },
  {
   "cell_type": "markdown",
   "id": "31e42b21",
   "metadata": {},
   "source": [
    "# Final Projesi"
   ]
  },
  {
   "cell_type": "code",
   "execution_count": 52,
   "id": "c23cc7dc",
   "metadata": {},
   "outputs": [],
   "source": [
    "from abc import ABC, abstractmethod\n",
    "\n",
    "# inheritance\n",
    "class Shape(ABC):\n",
    "    \"super class\"\n",
    "    # abstract method\n",
    "    @abstractmethod\n",
    "    def area(): pass\n",
    "    @abstractmethod\n",
    "    def parimeter(): pass\n",
    "    \n",
    "    # overriding and polymorphism\n",
    "    def toString(): pass\n",
    "    \n",
    "class Square(Shape):\n",
    "    \"sub class\"\n",
    "    def __init__(self, edge):\n",
    "        self.__edge = edge #privite\n",
    "        \n",
    "    def area(self):\n",
    "        result = self.__edge**2\n",
    "        print(\"Square area: \", result)\n",
    "        \n",
    "    def parimeter(self):\n",
    "        result = self.__edge*4\n",
    "        print(\"Square perimeter: \", result)\n",
    "        \n",
    "    def toString(self):\n",
    "        print(\"Square edge: \", self.__edge)\n",
    "        \n",
    "\n",
    "class Circle(Shape):\n",
    "    \"Circle class\"\n",
    "    PI = 3.14 #constant variable\n",
    "    def __init__(self, radius):\n",
    "        self.__radius = radius\n",
    "        \n",
    "    def area(self):\n",
    "        result = self.PI*self.__radius**2\n",
    "        print(\"Circle area: \", result)\n",
    "        \n",
    "    def parimeter(self):\n",
    "        result = 2*self.PI*self.__radius\n",
    "        print(\"Cicle perimeter: \", result)\n",
    "        \n",
    "    def toString(self):\n",
    "        print(\"Circle radius: \",self.__radius)"
   ]
  },
  {
   "cell_type": "code",
   "execution_count": 53,
   "id": "73e6ca80",
   "metadata": {},
   "outputs": [
    {
     "name": "stdout",
     "output_type": "stream",
     "text": [
      "Circle area:  78.5\n",
      "Cicle perimeter:  31.400000000000002\n",
      "Circle radius:  5\n"
     ]
    }
   ],
   "source": [
    "c = Circle(5)\n",
    "c.area()\n",
    "c.parimeter()\n",
    "c.toString()"
   ]
  },
  {
   "cell_type": "code",
   "execution_count": 54,
   "id": "fab8c63e",
   "metadata": {},
   "outputs": [
    {
     "name": "stdout",
     "output_type": "stream",
     "text": [
      "Square area:  25\n",
      "Square perimeter:  20\n",
      "Square edge:  5\n"
     ]
    }
   ],
   "source": [
    "s = Square(5)\n",
    "s.area()\n",
    "s.parimeter()\n",
    "s.toString()"
   ]
  },
  {
   "cell_type": "code",
   "execution_count": null,
   "id": "f32c7ea0",
   "metadata": {},
   "outputs": [],
   "source": []
  }
 ],
 "metadata": {
  "kernelspec": {
   "display_name": "Python 3 (ipykernel)",
   "language": "python",
   "name": "python3"
  },
  "language_info": {
   "codemirror_mode": {
    "name": "ipython",
    "version": 3
   },
   "file_extension": ".py",
   "mimetype": "text/x-python",
   "name": "python",
   "nbconvert_exporter": "python",
   "pygments_lexer": "ipython3",
   "version": "3.9.7"
  }
 },
 "nbformat": 4,
 "nbformat_minor": 5
}
